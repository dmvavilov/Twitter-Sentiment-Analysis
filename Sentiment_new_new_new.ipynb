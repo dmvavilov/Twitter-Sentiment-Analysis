{
 "cells": [
  {
   "cell_type": "markdown",
   "metadata": {},
   "source": [
    "## 1. Загрузка всех необходимых библиотек и задача функций"
   ]
  },
  {
   "cell_type": "code",
   "execution_count": 34,
   "metadata": {
    "collapsed": true
   },
   "outputs": [
    {
     "name": "stderr",
     "output_type": "stream",
     "text": [
      "Warning message:\n",
      "\"package 'tsfeatures' was built under R version 3.6.3\"\n",
      "Warning message:\n",
      "\"package 'tseries' was built under R version 3.6.3\"\n"
     ]
    }
   ],
   "source": [
    "library(RYandexTranslate)\n",
    "library(devtools)\n",
    "library(quantmod)\n",
    "library(xts)\n",
    "library(readxl)\n",
    "library(anytime)\n",
    "library(h2o)\n",
    "library(tsfeatures)\n",
    "library(tseries)\n",
    "library(openxlsx) # подгружаем необходимые библиотеки "
   ]
  },
  {
   "cell_type": "code",
   "execution_count": 6,
   "metadata": {},
   "outputs": [],
   "source": [
    "to_xts <- function(df, ...){ # для перевода фрейма во временной ряд \n",
    "    df <- as.data.frame(df)  \n",
    "    #df$date = as.Date(df$date)\n",
    "    ts = xts(df[,-1], order.by = df[,1])\n",
    "    return(ts) \n",
    "}"
   ]
  },
  {
   "cell_type": "code",
   "execution_count": 7,
   "metadata": {},
   "outputs": [],
   "source": [
    "range01 <- function(x){ # Функция для ранжирования от 0 до 1\n",
    "    (x-min(x))/(max(x)-min(x))\n",
    "}"
   ]
  },
  {
   "cell_type": "code",
   "execution_count": 8,
   "metadata": {},
   "outputs": [],
   "source": [
    "api_key = 'trnsl.1.1.20200419T185648Z.9c7b3b3c834e4159.eb7cf2df66a7d1aa40babff1b8896068637859e5' # Yandex API ключ"
   ]
  },
  {
   "cell_type": "code",
   "execution_count": 9,
   "metadata": {},
   "outputs": [],
   "source": [
    "translate = function (api_key, text = \"\", lang = \"\") # функция для языкового перевода с помощью API\n",
    "{\n",
    "  url = \"https://translate.yandex.net/api/v1.5/tr.json/translate?\"\n",
    "  url = paste(url, \"key=\", api_key, sep = \"\")\n",
    "  if (text != \"\") {\n",
    "    url = paste(url, \"&text=\", text, sep = \"\")\n",
    "  }\n",
    "  if (lang != \"\") {\n",
    "    url = paste(url, \"&lang=\", lang, sep = \"\")\n",
    "  }\n",
    "  url = gsub(pattern = \" \", replacement = \"%20\", x = url)\n",
    "  d = RCurl::getURL(url, ssl.verifyhost = 0L, ssl.verifypeer = 0L)\n",
    "  d = jsonlite::fromJSON(d)\n",
    "  d$code = NULL\n",
    "  d\n",
    "}  "
   ]
  },
  {
   "cell_type": "code",
   "execution_count": 21,
   "metadata": {},
   "outputs": [],
   "source": [
    "score.sentiment <- function(sentences, pos.words, neg.words, .progress='none') # функция для подсчета сентимента\n",
    " {\n",
    " require(plyr) \n",
    " require(stringr)\n",
    " scores <- laply(sentences, function(sentence, pos.words, neg.words){\n",
    " sentence <- gsub('[[:punct:]]', \"\", sentence)\n",
    " sentence <- gsub('[[:cntrl:]]', \"\", sentence)\n",
    " sentence <- gsub('\\\\d+', \"\", sentence)\n",
    " sentence <- tolower(sentence)\n",
    " word.list <- str_split(sentence, '\\\\s+')\n",
    " words <- unlist(word.list)\n",
    " pos.matches <- match(words, pos.words)\n",
    " neg.matches <- match(words, neg.words)\n",
    " pos.matches <- !is.na(pos.matches)\n",
    " neg.matches <- !is.na(neg.matches)\n",
    " score <- sum(pos.matches) - sum(neg.matches)\n",
    " return(score)\n",
    " }, pos.words, neg.words, .progress=.progress)\n",
    " scores.df <- data.frame(score=scores, text=sentences)\n",
    " return(scores.df)\n",
    " }"
   ]
  },
  {
   "cell_type": "code",
   "execution_count": 164,
   "metadata": {},
   "outputs": [],
   "source": [
    "accuracy <- function(real, pred) { # функция для подсчета точности угадывания направления цены акции (лог-доходности)\n",
    "    rp <- cbind(real, pred)\n",
    "    rp <- as.data.frame(rp)\n",
    "    rp <- exp(rp)\n",
    "    rp$V3 <- as.numeric( (rp[,1] > 1) == (rp[,2] > 1) )\n",
    "    return(sum(rp$V3)/nrow(rp))\n",
    "}"
   ]
  },
  {
   "cell_type": "code",
   "execution_count": 417,
   "metadata": {},
   "outputs": [],
   "source": [
    "accuracy_abs <- function(train, test, pred){ # функция для подсчета точности угадывания направление цены акции (абс. значения)\n",
    "    pr <- NULL\n",
    "    pr <- as.data.frame(pr)\n",
    "    pr[1,1] <- as.numeric(as.data.frame(train$y[nrow(train)]))\n",
    "    pr[1,2] <- as.numeric(as.data.frame(train$y[nrow(train)]))\n",
    "    colnames(pr) <- c('r', 'p')\n",
    "    ok <- cbind(as.data.frame(test$y), as.data.frame(pred$predict))\n",
    "    colnames(ok) <- c('r', 'p')\n",
    "    pr <- rbind(pr, ok)\n",
    "    pr <- as.ts(pr)\n",
    "    pr <- diff(pr, lag = 1)\n",
    "    pr <- as.data.frame(pr)\n",
    "    pr[,3] <- as.numeric( (pr[,1] > 0) == (pr[,2] > 0) )\n",
    "    return(sum(pr[,3])/nrow(pr))\n",
    "}"
   ]
  },
  {
   "cell_type": "markdown",
   "metadata": {},
   "source": [
    "## 2. Подгрузка и подготовка данных"
   ]
  },
  {
   "cell_type": "code",
   "execution_count": 10,
   "metadata": {},
   "outputs": [],
   "source": [
    "broendby <- read_excel('C:/Users/Митя/Brondby1_2017_2019_text.xlsx') # выкаченные твиты с помощью модуля twitterscraper в Python"
   ]
  },
  {
   "cell_type": "code",
   "execution_count": 11,
   "metadata": {},
   "outputs": [],
   "source": [
    "add <- read_excel('C:/Users/Митя/add_to_br.xlsx')"
   ]
  },
  {
   "cell_type": "code",
   "execution_count": 12,
   "metadata": {},
   "outputs": [],
   "source": [
    "broendby <- rbind(broendby, add)"
   ]
  },
  {
   "cell_type": "code",
   "execution_count": 13,
   "metadata": {},
   "outputs": [
    {
     "data": {
      "text/html": [
       "<table>\n",
       "<caption>A tibble: 6 × 5</caption>\n",
       "<thead>\n",
       "\t<tr><th scope=col>timestamp</th><th scope=col>text</th><th scope=col>likes</th><th scope=col>retweets</th><th scope=col>replies</th></tr>\n",
       "\t<tr><th scope=col>&lt;dttm&gt;</th><th scope=col>&lt;chr&gt;</th><th scope=col>&lt;dbl&gt;</th><th scope=col>&lt;dbl&gt;</th><th scope=col>&lt;dbl&gt;</th></tr>\n",
       "</thead>\n",
       "<tbody>\n",
       "\t<tr><td>2017-01-01</td><td>Voici les premiers rendez-vous de 2017 \r\n",
       "\r\n",
       "16 fevrier : Ludogorets  -  FC Kobenhavn\r\n",
       "\r\n",
       "19 fevrier : FC Kobenhavn - Brondby                                         </td><td>0</td><td>1</td><td>0</td></tr>\n",
       "\t<tr><td>2017-01-01</td><td>Losningen er sensor bleer. Det arbejde vi nu med pa Nygard Plejecenter i Brondby. Souper opfindelse.#dkpleje #KL #dkpol                                                    </td><td>0</td><td>0</td><td>0</td></tr>\n",
       "\t<tr><td>2017-01-01</td><td>Swoja droga Paulus od dzisiaj jest zawodnikiem Broendby. Mam nadzieje, ze Rutkowscy nie beda zbyt dlugo odpoczywac po sylwestrze                                           </td><td>2</td><td>0</td><td>0</td></tr>\n",
       "\t<tr><td>2017-01-01</td><td>God gratis l&lt;U+00E6&gt;sning: Kapitel 23 i Henrik Madsens \"Kjeld – Borgmesteren, der skabte Brondby\". @HenrikGyrupM #dkkompol http://kommunen.dk/kjeld-den-evige-borgmester/ …</td><td>0</td><td>0</td><td>0</td></tr>\n",
       "\t<tr><td>2017-01-01</td><td>du burde som koordinater stotte op og arrangere boycot mod fakta, det ikke i orden at vi Brondby drenge ikke kan kobe pa 2. Dagen                                          </td><td>0</td><td>0</td><td>0</td></tr>\n",
       "\t<tr><td>2017-01-01</td><td>Social- og sundhedsassistenter, Brondby Kommune, Kobenhavn - http://denmark.jobrat.net/2017/01/01/social-og-sundhedsassistenter-brondby-kommune-kobenhavn/ …               </td><td>0</td><td>0</td><td>0</td></tr>\n",
       "</tbody>\n",
       "</table>\n"
      ],
      "text/latex": [
       "A tibble: 6 × 5\n",
       "\\begin{tabular}{lllll}\n",
       " timestamp & text & likes & retweets & replies\\\\\n",
       " <dttm> & <chr> & <dbl> & <dbl> & <dbl>\\\\\n",
       "\\hline\n",
       "\t 2017-01-01 & Voici les premiers rendez-vous de 2017 \r\n",
       "\r\n",
       "16 fevrier : Ludogorets  -  FC Kobenhavn\r\n",
       "\r\n",
       "19 fevrier : FC Kobenhavn - Brondby                                          & 0 & 1 & 0\\\\\n",
       "\t 2017-01-01 & Losningen er sensor bleer. Det arbejde vi nu med pa Nygard Plejecenter i Brondby. Souper opfindelse.\\#dkpleje \\#KL \\#dkpol                                                     & 0 & 0 & 0\\\\\n",
       "\t 2017-01-01 & Swoja droga Paulus od dzisiaj jest zawodnikiem Broendby. Mam nadzieje, ze Rutkowscy nie beda zbyt dlugo odpoczywac po sylwestrze                                            & 2 & 0 & 0\\\\\n",
       "\t 2017-01-01 & God gratis l<U+00E6>sning: Kapitel 23 i Henrik Madsens \"Kjeld – Borgmesteren, der skabte Brondby\". @HenrikGyrupM \\#dkkompol http://kommunen.dk/kjeld-den-evige-borgmester/ … & 0 & 0 & 0\\\\\n",
       "\t 2017-01-01 & du burde som koordinater stotte op og arrangere boycot mod fakta, det ikke i orden at vi Brondby drenge ikke kan kobe pa 2. Dagen                                           & 0 & 0 & 0\\\\\n",
       "\t 2017-01-01 & Social- og sundhedsassistenter, Brondby Kommune, Kobenhavn - http://denmark.jobrat.net/2017/01/01/social-og-sundhedsassistenter-brondby-kommune-kobenhavn/ …                & 0 & 0 & 0\\\\\n",
       "\\end{tabular}\n"
      ],
      "text/markdown": [
       "\n",
       "A tibble: 6 × 5\n",
       "\n",
       "| timestamp &lt;dttm&gt; | text &lt;chr&gt; | likes &lt;dbl&gt; | retweets &lt;dbl&gt; | replies &lt;dbl&gt; |\n",
       "|---|---|---|---|---|\n",
       "| 2017-01-01 | Voici les premiers rendez-vous de 2017 \r\n",
       "\r\n",
       "16 fevrier : Ludogorets  -  FC Kobenhavn\r\n",
       "\r\n",
       "19 fevrier : FC Kobenhavn - Brondby                                          | 0 | 1 | 0 |\n",
       "| 2017-01-01 | Losningen er sensor bleer. Det arbejde vi nu med pa Nygard Plejecenter i Brondby. Souper opfindelse.#dkpleje #KL #dkpol                                                     | 0 | 0 | 0 |\n",
       "| 2017-01-01 | Swoja droga Paulus od dzisiaj jest zawodnikiem Broendby. Mam nadzieje, ze Rutkowscy nie beda zbyt dlugo odpoczywac po sylwestrze                                            | 2 | 0 | 0 |\n",
       "| 2017-01-01 | God gratis l&lt;U+00E6&gt;sning: Kapitel 23 i Henrik Madsens \"Kjeld – Borgmesteren, der skabte Brondby\". @HenrikGyrupM #dkkompol http://kommunen.dk/kjeld-den-evige-borgmester/ … | 0 | 0 | 0 |\n",
       "| 2017-01-01 | du burde som koordinater stotte op og arrangere boycot mod fakta, det ikke i orden at vi Brondby drenge ikke kan kobe pa 2. Dagen                                           | 0 | 0 | 0 |\n",
       "| 2017-01-01 | Social- og sundhedsassistenter, Brondby Kommune, Kobenhavn - http://denmark.jobrat.net/2017/01/01/social-og-sundhedsassistenter-brondby-kommune-kobenhavn/ …                | 0 | 0 | 0 |\n",
       "\n"
      ],
      "text/plain": [
       "  timestamp \n",
       "1 2017-01-01\n",
       "2 2017-01-01\n",
       "3 2017-01-01\n",
       "4 2017-01-01\n",
       "5 2017-01-01\n",
       "6 2017-01-01\n",
       "  text                                                                                                                                                                       \n",
       "1 Voici les premiers rendez-vous de 2017 \\r\\n\\r\\n16 fevrier : Ludogorets  -  FC Kobenhavn\\r\\n\\r\\n19 fevrier : FC Kobenhavn - Brondby                                         \n",
       "2 Losningen er sensor bleer. Det arbejde vi nu med pa Nygard Plejecenter i Brondby. Souper opfindelse.#dkpleje #KL #dkpol                                                    \n",
       "3 Swoja droga Paulus od dzisiaj jest zawodnikiem Broendby. Mam nadzieje, ze Rutkowscy nie beda zbyt dlugo odpoczywac po sylwestrze                                           \n",
       "4 God gratis l<U+00E6>sning: Kapitel 23 i Henrik Madsens \"Kjeld – Borgmesteren, der skabte Brondby\". @HenrikGyrupM #dkkompol http://kommunen.dk/kjeld-den-evige-borgmester/ …\n",
       "5 du burde som koordinater stotte op og arrangere boycot mod fakta, det ikke i orden at vi Brondby drenge ikke kan kobe pa 2. Dagen                                          \n",
       "6 Social- og sundhedsassistenter, Brondby Kommune, Kobenhavn - http://denmark.jobrat.net/2017/01/01/social-og-sundhedsassistenter-brondby-kommune-kobenhavn/ …               \n",
       "  likes retweets replies\n",
       "1 0     1        0      \n",
       "2 0     0        0      \n",
       "3 2     0        0      \n",
       "4 0     0        0      \n",
       "5 0     0        0      \n",
       "6 0     0        0      "
      ]
     },
     "metadata": {},
     "output_type": "display_data"
    }
   ],
   "source": [
    "head(broendby) # массив данных"
   ]
  },
  {
   "cell_type": "code",
   "execution_count": 14,
   "metadata": {},
   "outputs": [],
   "source": [
    "broendby <- broendby[order(broendby$timestamp),] # Сортируем по дате"
   ]
  },
  {
   "cell_type": "code",
   "execution_count": 15,
   "metadata": {},
   "outputs": [],
   "source": [
    "tweets <- as.data.frame(broendby)"
   ]
  },
  {
   "cell_type": "code",
   "execution_count": 16,
   "metadata": {},
   "outputs": [],
   "source": [
    "colnames(tweets) <- c('Date', 'Text', 'Likes', 'Retweets', 'Replies') # дает удобные названия переменным"
   ]
  },
  {
   "cell_type": "code",
   "execution_count": 17,
   "metadata": {},
   "outputs": [
    {
     "data": {
      "text/html": [
       "180345"
      ],
      "text/latex": [
       "180345"
      ],
      "text/markdown": [
       "180345"
      ],
      "text/plain": [
       "[1] 180345"
      ]
     },
     "metadata": {},
     "output_type": "display_data"
    }
   ],
   "source": [
    "nrow(tweets)"
   ]
  },
  {
   "cell_type": "code",
   "execution_count": 18,
   "metadata": {},
   "outputs": [],
   "source": [
    "tweets <- tweets[!duplicated(tweets$Text), ] # удаляем дубликаты "
   ]
  },
  {
   "cell_type": "code",
   "execution_count": 19,
   "metadata": {},
   "outputs": [
    {
     "data": {
      "text/html": [
       "143700"
      ],
      "text/latex": [
       "143700"
      ],
      "text/markdown": [
       "143700"
      ],
      "text/plain": [
       "[1] 143700"
      ]
     },
     "metadata": {},
     "output_type": "display_data"
    }
   ],
   "source": [
    "nrow(tweets) # оставили неповторяющиеся твитов"
   ]
  },
  {
   "cell_type": "markdown",
   "metadata": {},
   "source": [
    "## 3. Сентимент-анализ постов в Twitter"
   ]
  },
  {
   "cell_type": "code",
   "execution_count": 20,
   "metadata": {},
   "outputs": [],
   "source": [
    "tweets1 <- tweets # на всякий случай"
   ]
  },
  {
   "cell_type": "code",
   "execution_count": 22,
   "metadata": {},
   "outputs": [],
   "source": [
    "pos <- scan('C:/Users/Митя/Desktop/positive.txt', what='character', comment.char=';') # набор положительных слов\n",
    "neg <- scan('C:/Users/Митя/Desktop/negative.txt', what='character', comment.char=';') # набор негативных слов"
   ]
  },
  {
   "cell_type": "code",
   "execution_count": 23,
   "metadata": {},
   "outputs": [
    {
     "data": {
      "text/html": [
       "<pre class=language-r><code>function (x, file = \"data\", ncolumns = if (is.character(x)) 1 else 5, \n",
       "<span style=white-space:pre-wrap>    append = FALSE, sep = \" \") </span>\n",
       "cat(x, file = file, sep = c(rep.int(sep, ncolumns - 1), \"\\n\"), \n",
       "<span style=white-space:pre-wrap>    append = append)</span></code></pre>"
      ],
      "text/latex": [
       "\\begin{minted}{r}\n",
       "function (x, file = \"data\", ncolumns = if (is.character(x)) 1 else 5, \n",
       "    append = FALSE, sep = \" \") \n",
       "cat(x, file = file, sep = c(rep.int(sep, ncolumns - 1), \"\\textbackslash{}n\"), \n",
       "    append = append)\n",
       "\\end{minted}"
      ],
      "text/markdown": [
       "```r\n",
       "function (x, file = \"data\", ncolumns = if (is.character(x)) 1 else 5, \n",
       "    append = FALSE, sep = \" \") \n",
       "cat(x, file = file, sep = c(rep.int(sep, ncolumns - 1), \"\\n\"), \n",
       "    append = append)\n",
       "```"
      ],
      "text/plain": [
       "function (x, file = \"data\", ncolumns = if (is.character(x)) 1 else 5, \n",
       "    append = FALSE, sep = \" \") \n",
       "cat(x, file = file, sep = c(rep.int(sep, ncolumns - 1), \"\\n\"), \n",
       "    append = append)\n",
       "<bytecode: 0x00000000614f3528>\n",
       "<environment: namespace:base>"
      ]
     },
     "metadata": {},
     "output_type": "display_data"
    }
   ],
   "source": [
    "pos_da <- NULL\n",
    "for (i in 1:nrow(as.data.frame(pos))) { # цикл для построчного перевода позитивных слов на датский \n",
    "   text = pos[i]\n",
    "    try(\n",
    "    data <- translate(api_key, text = text, lang=\"da\"))\n",
    "    if (is.null(data$text) != 1) {\n",
    "    pos_da[i] <- data$text\n",
    "        }\n",
    "}"
   ]
  },
  {
   "cell_type": "code",
   "execution_count": 25,
   "metadata": {},
   "outputs": [],
   "source": [
    "write.table(pos_da, 'pos_da.txt', sep = ';')"
   ]
  },
  {
   "cell_type": "code",
   "execution_count": 26,
   "metadata": {},
   "outputs": [],
   "source": [
    "neg_da <- NULL \n",
    "for (i in 1:nrow(as.data.frame(neg))) { # цикл для построчного перевода негативных слов на датский \n",
    "   text = neg[i]\n",
    "    try(\n",
    "    data <- translate(api_key, text = text, lang=\"da\"))\n",
    "    if (is.null(data$text) != 1) {\n",
    "    neg_da[i] <- data$text\n",
    "        }\n",
    "}"
   ]
  },
  {
   "cell_type": "code",
   "execution_count": 27,
   "metadata": {},
   "outputs": [],
   "source": [
    "write.table(neg_da, 'neg_da.txt', sep = ';')"
   ]
  },
  {
   "cell_type": "code",
   "execution_count": 28,
   "metadata": {},
   "outputs": [],
   "source": [
    "pos.words <- c(pos, pos_da) # твиты могут быть написаны только на двух языках: английский и датский\n",
    "neg.words <- c(neg, neg_da) # будем смотреть, есть ли слова из твита с списке с позитивными словами на двух языках"
   ]
  },
  {
   "cell_type": "code",
   "execution_count": 29,
   "metadata": {},
   "outputs": [
    {
     "data": {
      "text/html": [
       "4012"
      ],
      "text/latex": [
       "4012"
      ],
      "text/markdown": [
       "4012"
      ],
      "text/plain": [
       "[1] 4012"
      ]
     },
     "metadata": {},
     "output_type": "display_data"
    },
    {
     "data": {
      "text/html": [
       "9566"
      ],
      "text/latex": [
       "9566"
      ],
      "text/markdown": [
       "9566"
      ],
      "text/plain": [
       "[1] 9566"
      ]
     },
     "metadata": {},
     "output_type": "display_data"
    }
   ],
   "source": [
    "nrow(as.data.frame(pos.words))\n",
    "nrow(as.data.frame(neg.words))"
   ]
  },
  {
   "cell_type": "code",
   "execution_count": 30,
   "metadata": {},
   "outputs": [],
   "source": [
    "pos.words <- pos.words[!duplicated(pos.words)] # удаляем повторяющиеся слова\n",
    "neg.words <- neg.words[!duplicated(neg.words)] # из-за сложности перевода, переводчик иногда повторяет запрос"
   ]
  },
  {
   "cell_type": "code",
   "execution_count": 31,
   "metadata": {
    "scrolled": true
   },
   "outputs": [
    {
     "data": {
      "text/html": [
       "3316"
      ],
      "text/latex": [
       "3316"
      ],
      "text/markdown": [
       "3316"
      ],
      "text/plain": [
       "[1] 3316"
      ]
     },
     "metadata": {},
     "output_type": "display_data"
    },
    {
     "data": {
      "text/html": [
       "7570"
      ],
      "text/latex": [
       "7570"
      ],
      "text/markdown": [
       "7570"
      ],
      "text/plain": [
       "[1] 7570"
      ]
     },
     "metadata": {},
     "output_type": "display_data"
    }
   ],
   "source": [
    "nrow(as.data.frame(pos.words)) #столько слов осталось\n",
    "nrow(as.data.frame(neg.words))"
   ]
  },
  {
   "cell_type": "code",
   "execution_count": 32,
   "metadata": {},
   "outputs": [],
   "source": [
    "tweets$Text <- as.factor(tweets$Text) # преобразовываем столбец твитов в факторную переменную"
   ]
  },
  {
   "cell_type": "code",
   "execution_count": 33,
   "metadata": {
    "collapsed": true
   },
   "outputs": [
    {
     "name": "stderr",
     "output_type": "stream",
     "text": [
      "Loading required package: plyr\n",
      "\n",
      "Warning message:\n",
      "\"package 'plyr' was built under R version 3.6.3\"\n",
      "Loading required package: stringr\n",
      "\n"
     ]
    },
    {
     "name": "stdout",
     "output_type": "stream",
     "text": [
      "  |======================================================================| 100%\n"
     ]
    }
   ],
   "source": [
    "scores <- score.sentiment(tweets1$Text, pos.words, neg.words, .progress='text')"
   ]
  },
  {
   "cell_type": "code",
   "execution_count": 35,
   "metadata": {},
   "outputs": [],
   "source": [
    "scores$pos <- integer(length = nrow(scores))\n",
    "scores$neut <- integer(length = nrow(scores))\n",
    "scores$neg <- integer(length = nrow(scores))\n",
    "for (i in 1:nrow(scores)) {\n",
    "    if (scores$score[i] > 0) { # создаем для каждого типо твитов отдельные бинарные переменные \n",
    "    scores$pos[i] <- 1\n",
    "} else if (scores$score[i] == 0){\n",
    "    scores$neut[i] <- 1\n",
    "} else if (scores$score[i] < 0){\n",
    "    scores$neg[i] <- 1\n",
    "}\n",
    "    }"
   ]
  },
  {
   "cell_type": "code",
   "execution_count": 36,
   "metadata": {},
   "outputs": [
    {
     "data": {
      "text/html": [
       "<table>\n",
       "<caption>A data.frame: 6 × 5</caption>\n",
       "<thead>\n",
       "\t<tr><th></th><th scope=col>score</th><th scope=col>text</th><th scope=col>pos</th><th scope=col>neut</th><th scope=col>neg</th></tr>\n",
       "\t<tr><th></th><th scope=col>&lt;int&gt;</th><th scope=col>&lt;fct&gt;</th><th scope=col>&lt;dbl&gt;</th><th scope=col>&lt;dbl&gt;</th><th scope=col>&lt;dbl&gt;</th></tr>\n",
       "</thead>\n",
       "<tbody>\n",
       "\t<tr><th scope=row>1</th><td>0</td><td>Voici les premiers rendez-vous de 2017 \r\n",
       "\r\n",
       "16 fevrier : Ludogorets  -  FC Kobenhavn\r\n",
       "\r\n",
       "19 fevrier : FC Kobenhavn - Brondby                                         </td><td>0</td><td>1</td><td>0</td></tr>\n",
       "\t<tr><th scope=row>2</th><td>1</td><td>Losningen er sensor bleer. Det arbejde vi nu med pa Nygard Plejecenter i Brondby. Souper opfindelse.#dkpleje #KL #dkpol                                                    </td><td>1</td><td>0</td><td>0</td></tr>\n",
       "\t<tr><th scope=row>3</th><td>0</td><td>Swoja droga Paulus od dzisiaj jest zawodnikiem Broendby. Mam nadzieje, ze Rutkowscy nie beda zbyt dlugo odpoczywac po sylwestrze                                           </td><td>0</td><td>1</td><td>0</td></tr>\n",
       "\t<tr><th scope=row>4</th><td>2</td><td>God gratis l&lt;U+00E6&gt;sning: Kapitel 23 i Henrik Madsens \"Kjeld – Borgmesteren, der skabte Brondby\". @HenrikGyrupM #dkkompol http://kommunen.dk/kjeld-den-evige-borgmester/ …</td><td>1</td><td>0</td><td>0</td></tr>\n",
       "\t<tr><th scope=row>5</th><td>1</td><td>du burde som koordinater stotte op og arrangere boycot mod fakta, det ikke i orden at vi Brondby drenge ikke kan kobe pa 2. Dagen                                          </td><td>1</td><td>0</td><td>0</td></tr>\n",
       "\t<tr><th scope=row>6</th><td>0</td><td>Social- og sundhedsassistenter, Brondby Kommune, Kobenhavn - http://denmark.jobrat.net/2017/01/01/social-og-sundhedsassistenter-brondby-kommune-kobenhavn/ …               </td><td>0</td><td>1</td><td>0</td></tr>\n",
       "</tbody>\n",
       "</table>\n"
      ],
      "text/latex": [
       "A data.frame: 6 × 5\n",
       "\\begin{tabular}{r|lllll}\n",
       "  & score & text & pos & neut & neg\\\\\n",
       "  & <int> & <fct> & <dbl> & <dbl> & <dbl>\\\\\n",
       "\\hline\n",
       "\t1 & 0 & Voici les premiers rendez-vous de 2017 \r\n",
       "\r\n",
       "16 fevrier : Ludogorets  -  FC Kobenhavn\r\n",
       "\r\n",
       "19 fevrier : FC Kobenhavn - Brondby                                          & 0 & 1 & 0\\\\\n",
       "\t2 & 1 & Losningen er sensor bleer. Det arbejde vi nu med pa Nygard Plejecenter i Brondby. Souper opfindelse.\\#dkpleje \\#KL \\#dkpol                                                     & 1 & 0 & 0\\\\\n",
       "\t3 & 0 & Swoja droga Paulus od dzisiaj jest zawodnikiem Broendby. Mam nadzieje, ze Rutkowscy nie beda zbyt dlugo odpoczywac po sylwestrze                                            & 0 & 1 & 0\\\\\n",
       "\t4 & 2 & God gratis l<U+00E6>sning: Kapitel 23 i Henrik Madsens \"Kjeld – Borgmesteren, der skabte Brondby\". @HenrikGyrupM \\#dkkompol http://kommunen.dk/kjeld-den-evige-borgmester/ … & 1 & 0 & 0\\\\\n",
       "\t5 & 1 & du burde som koordinater stotte op og arrangere boycot mod fakta, det ikke i orden at vi Brondby drenge ikke kan kobe pa 2. Dagen                                           & 1 & 0 & 0\\\\\n",
       "\t6 & 0 & Social- og sundhedsassistenter, Brondby Kommune, Kobenhavn - http://denmark.jobrat.net/2017/01/01/social-og-sundhedsassistenter-brondby-kommune-kobenhavn/ …                & 0 & 1 & 0\\\\\n",
       "\\end{tabular}\n"
      ],
      "text/markdown": [
       "\n",
       "A data.frame: 6 × 5\n",
       "\n",
       "| <!--/--> | score &lt;int&gt; | text &lt;fct&gt; | pos &lt;dbl&gt; | neut &lt;dbl&gt; | neg &lt;dbl&gt; |\n",
       "|---|---|---|---|---|---|\n",
       "| 1 | 0 | Voici les premiers rendez-vous de 2017 \r\n",
       "\r\n",
       "16 fevrier : Ludogorets  -  FC Kobenhavn\r\n",
       "\r\n",
       "19 fevrier : FC Kobenhavn - Brondby                                          | 0 | 1 | 0 |\n",
       "| 2 | 1 | Losningen er sensor bleer. Det arbejde vi nu med pa Nygard Plejecenter i Brondby. Souper opfindelse.#dkpleje #KL #dkpol                                                     | 1 | 0 | 0 |\n",
       "| 3 | 0 | Swoja droga Paulus od dzisiaj jest zawodnikiem Broendby. Mam nadzieje, ze Rutkowscy nie beda zbyt dlugo odpoczywac po sylwestrze                                            | 0 | 1 | 0 |\n",
       "| 4 | 2 | God gratis l&lt;U+00E6&gt;sning: Kapitel 23 i Henrik Madsens \"Kjeld – Borgmesteren, der skabte Brondby\". @HenrikGyrupM #dkkompol http://kommunen.dk/kjeld-den-evige-borgmester/ … | 1 | 0 | 0 |\n",
       "| 5 | 1 | du burde som koordinater stotte op og arrangere boycot mod fakta, det ikke i orden at vi Brondby drenge ikke kan kobe pa 2. Dagen                                           | 1 | 0 | 0 |\n",
       "| 6 | 0 | Social- og sundhedsassistenter, Brondby Kommune, Kobenhavn - http://denmark.jobrat.net/2017/01/01/social-og-sundhedsassistenter-brondby-kommune-kobenhavn/ …                | 0 | 1 | 0 |\n",
       "\n"
      ],
      "text/plain": [
       "  score\n",
       "1 0    \n",
       "2 1    \n",
       "3 0    \n",
       "4 2    \n",
       "5 1    \n",
       "6 0    \n",
       "  text                                                                                                                                                                       \n",
       "1 Voici les premiers rendez-vous de 2017 \\r\\n\\r\\n16 fevrier : Ludogorets  -  FC Kobenhavn\\r\\n\\r\\n19 fevrier : FC Kobenhavn - Brondby                                         \n",
       "2 Losningen er sensor bleer. Det arbejde vi nu med pa Nygard Plejecenter i Brondby. Souper opfindelse.#dkpleje #KL #dkpol                                                    \n",
       "3 Swoja droga Paulus od dzisiaj jest zawodnikiem Broendby. Mam nadzieje, ze Rutkowscy nie beda zbyt dlugo odpoczywac po sylwestrze                                           \n",
       "4 God gratis l<U+00E6>sning: Kapitel 23 i Henrik Madsens \"Kjeld – Borgmesteren, der skabte Brondby\". @HenrikGyrupM #dkkompol http://kommunen.dk/kjeld-den-evige-borgmester/ …\n",
       "5 du burde som koordinater stotte op og arrangere boycot mod fakta, det ikke i orden at vi Brondby drenge ikke kan kobe pa 2. Dagen                                          \n",
       "6 Social- og sundhedsassistenter, Brondby Kommune, Kobenhavn - http://denmark.jobrat.net/2017/01/01/social-og-sundhedsassistenter-brondby-kommune-kobenhavn/ …               \n",
       "  pos neut neg\n",
       "1 0   1    0  \n",
       "2 1   0    0  \n",
       "3 0   1    0  \n",
       "4 1   0    0  \n",
       "5 1   0    0  \n",
       "6 0   1    0  "
      ]
     },
     "metadata": {},
     "output_type": "display_data"
    }
   ],
   "source": [
    "head(scores)"
   ]
  },
  {
   "cell_type": "markdown",
   "metadata": {},
   "source": [
    "## 4. Подсчет основных метрик"
   ]
  },
  {
   "cell_type": "code",
   "execution_count": 37,
   "metadata": {},
   "outputs": [],
   "source": [
    "metrics <- cbind(as.character(tweets1$Date), scores$score, scores$pos, scores$neut, scores$neg)"
   ]
  },
  {
   "cell_type": "code",
   "execution_count": 38,
   "metadata": {},
   "outputs": [],
   "source": [
    "metrics <- as.data.frame(metrics)"
   ]
  },
  {
   "cell_type": "code",
   "execution_count": 39,
   "metadata": {},
   "outputs": [],
   "source": [
    "colnames(metrics) <- c('Date', 'Score', 'Positive', 'Neutral', 'Negative')"
   ]
  },
  {
   "cell_type": "code",
   "execution_count": 40,
   "metadata": {},
   "outputs": [],
   "source": [
    "metrics$Date <- as.Date(metrics$Date)\n",
    "for (i in 2:ncol(metrics)){\n",
    "    metrics[,i] <- as.numeric(as.character(metrics[,i]))\n",
    "}"
   ]
  },
  {
   "cell_type": "code",
   "execution_count": 42,
   "metadata": {},
   "outputs": [
    {
     "data": {
      "text/html": [
       "<table>\n",
       "<caption>A data.frame: 6 × 5</caption>\n",
       "<thead>\n",
       "\t<tr><th></th><th scope=col>Date</th><th scope=col>Score</th><th scope=col>Positive</th><th scope=col>Neutral</th><th scope=col>Negative</th></tr>\n",
       "\t<tr><th></th><th scope=col>&lt;date&gt;</th><th scope=col>&lt;dbl&gt;</th><th scope=col>&lt;dbl&gt;</th><th scope=col>&lt;dbl&gt;</th><th scope=col>&lt;dbl&gt;</th></tr>\n",
       "</thead>\n",
       "<tbody>\n",
       "\t<tr><th scope=row>1</th><td>2017-01-01</td><td>0</td><td>0</td><td>1</td><td>0</td></tr>\n",
       "\t<tr><th scope=row>2</th><td>2017-01-01</td><td>1</td><td>1</td><td>0</td><td>0</td></tr>\n",
       "\t<tr><th scope=row>3</th><td>2017-01-01</td><td>0</td><td>0</td><td>1</td><td>0</td></tr>\n",
       "\t<tr><th scope=row>4</th><td>2017-01-01</td><td>2</td><td>1</td><td>0</td><td>0</td></tr>\n",
       "\t<tr><th scope=row>5</th><td>2017-01-01</td><td>1</td><td>1</td><td>0</td><td>0</td></tr>\n",
       "\t<tr><th scope=row>6</th><td>2017-01-01</td><td>0</td><td>0</td><td>1</td><td>0</td></tr>\n",
       "</tbody>\n",
       "</table>\n"
      ],
      "text/latex": [
       "A data.frame: 6 × 5\n",
       "\\begin{tabular}{r|lllll}\n",
       "  & Date & Score & Positive & Neutral & Negative\\\\\n",
       "  & <date> & <dbl> & <dbl> & <dbl> & <dbl>\\\\\n",
       "\\hline\n",
       "\t1 & 2017-01-01 & 0 & 0 & 1 & 0\\\\\n",
       "\t2 & 2017-01-01 & 1 & 1 & 0 & 0\\\\\n",
       "\t3 & 2017-01-01 & 0 & 0 & 1 & 0\\\\\n",
       "\t4 & 2017-01-01 & 2 & 1 & 0 & 0\\\\\n",
       "\t5 & 2017-01-01 & 1 & 1 & 0 & 0\\\\\n",
       "\t6 & 2017-01-01 & 0 & 0 & 1 & 0\\\\\n",
       "\\end{tabular}\n"
      ],
      "text/markdown": [
       "\n",
       "A data.frame: 6 × 5\n",
       "\n",
       "| <!--/--> | Date &lt;date&gt; | Score &lt;dbl&gt; | Positive &lt;dbl&gt; | Neutral &lt;dbl&gt; | Negative &lt;dbl&gt; |\n",
       "|---|---|---|---|---|---|\n",
       "| 1 | 2017-01-01 | 0 | 0 | 1 | 0 |\n",
       "| 2 | 2017-01-01 | 1 | 1 | 0 | 0 |\n",
       "| 3 | 2017-01-01 | 0 | 0 | 1 | 0 |\n",
       "| 4 | 2017-01-01 | 2 | 1 | 0 | 0 |\n",
       "| 5 | 2017-01-01 | 1 | 1 | 0 | 0 |\n",
       "| 6 | 2017-01-01 | 0 | 0 | 1 | 0 |\n",
       "\n"
      ],
      "text/plain": [
       "  Date       Score Positive Neutral Negative\n",
       "1 2017-01-01 0     0        1       0       \n",
       "2 2017-01-01 1     1        0       0       \n",
       "3 2017-01-01 0     0        1       0       \n",
       "4 2017-01-01 2     1        0       0       \n",
       "5 2017-01-01 1     1        0       0       \n",
       "6 2017-01-01 0     0        1       0       "
      ]
     },
     "metadata": {},
     "output_type": "display_data"
    }
   ],
   "source": [
    "head(metrics)"
   ]
  },
  {
   "cell_type": "code",
   "execution_count": 43,
   "metadata": {},
   "outputs": [],
   "source": [
    "metrics <- aggregate(cbind(Score, Positive, Neutral, Negative) ~ Date, metrics, sum) # считаем метрику на день"
   ]
  },
  {
   "cell_type": "code",
   "execution_count": 44,
   "metadata": {},
   "outputs": [],
   "source": [
    "metrics <- to_xts(metrics) # делаем из фрейма временной ряд"
   ]
  },
  {
   "cell_type": "code",
   "execution_count": 47,
   "metadata": {},
   "outputs": [
    {
     "data": {
      "image/png": "[encoded data removed]",
      "text/plain": [
       "plot without title"
      ]
     },
     "metadata": {
      "image/png": {
       "height": 420,
       "width": 420
      },
      "text/plain": {
       "height": 420,
       "width": 420
      }
     },
     "output_type": "display_data"
    }
   ],
   "source": [
    "plot(metrics$Positive, col = 'blue3')"
   ]
  },
  {
   "cell_type": "code",
   "execution_count": 48,
   "metadata": {
    "collapsed": true
   },
   "outputs": [
    {
     "name": "stderr",
     "output_type": "stream",
     "text": [
      "'getSymbols' currently uses auto.assign=TRUE by default, but will\n",
      "use auto.assign=FALSE in 0.5-0. You will still be able to use\n",
      "'loadSymbols' to automatically load data. getOption(\"getSymbols.env\")\n",
      "and getOption(\"getSymbols.auto.assign\") will still be checked for\n",
      "alternate defaults.\n",
      "\n",
      "This message is shown once per session and may be disabled by setting \n",
      "options(\"getSymbols.warning4.0\"=FALSE). See ?getSymbols for details.\n",
      "\n",
      "\n"
     ]
    },
    {
     "data": {
      "text/html": [
       "'BIF.CO'"
      ],
      "text/latex": [
       "'BIF.CO'"
      ],
      "text/markdown": [
       "'BIF.CO'"
      ],
      "text/plain": [
       "[1] \"BIF.CO\""
      ]
     },
     "metadata": {},
     "output_type": "display_data"
    }
   ],
   "source": [
    "getSymbols('BIF.CO', src = 'yahoo') # качаем серию"
   ]
  },
  {
   "cell_type": "code",
   "execution_count": 234,
   "metadata": {},
   "outputs": [],
   "source": [
    "metrics$Volume <- metrics$Positive + metrics$Neutral + metrics$Negative # добавляем метрики \n",
    "metrics$Ratio <- metrics$Positive / metrics$Negative\n",
    "metrics$Polarity <- (metrics$Positive - metrics$Negative) / (metrics$Positive + metrics$Negative)\n",
    "metrics$Composite <- (metrics$Positive - metrics$Negative) / metrics$Volume"
   ]
  },
  {
   "cell_type": "markdown",
   "metadata": {},
   "source": [
    "## 5. Подготова данных для построения моделей"
   ]
  },
  {
   "cell_type": "code",
   "execution_count": 235,
   "metadata": {},
   "outputs": [],
   "source": [
    "data <- merge(BIF.CO$BIF.CO.Close['2017-01-01::2019-12-31'], metrics)"
   ]
  },
  {
   "cell_type": "code",
   "execution_count": 236,
   "metadata": {},
   "outputs": [
    {
     "data": {
      "text/plain": [
       "           BIF.CO.Close Score Positive Neutral Negative Volume    Ratio\n",
       "2017-01-01           NA     3        3       4        1      8 3.000000\n",
       "2017-01-02     0.489458    -2        5      19        8     32 0.625000\n",
       "2017-01-03     0.493949     8       11      18        6     35 1.833333\n",
       "2017-01-04     0.493949    22       26      20       13     59 2.000000\n",
       "2017-01-05     0.489458     9       16      44       12     72 1.333333\n",
       "2017-01-06     0.493949     8       16      15        9     40 1.777778\n",
       "             Polarity   Composite\n",
       "2017-01-01  0.5000000  0.25000000\n",
       "2017-01-02 -0.2307692 -0.09375000\n",
       "2017-01-03  0.2941176  0.14285714\n",
       "2017-01-04  0.3333333  0.22033898\n",
       "2017-01-05  0.1428571  0.05555556\n",
       "2017-01-06  0.2800000  0.17500000"
      ]
     },
     "metadata": {},
     "output_type": "display_data"
    }
   ],
   "source": [
    "head(data)"
   ]
  },
  {
   "cell_type": "code",
   "execution_count": 237,
   "metadata": {},
   "outputs": [
    {
     "data": {
      "text/html": [
       "<table>\n",
       "<caption>A matrix: 9 × 9 of type dbl</caption>\n",
       "<thead>\n",
       "\t<tr><th></th><th scope=col>BIF.CO.Close</th><th scope=col>Score</th><th scope=col>Positive</th><th scope=col>Neutral</th><th scope=col>Negative</th><th scope=col>Volume</th><th scope=col>Ratio</th><th scope=col>Polarity</th><th scope=col>Composite</th></tr>\n",
       "</thead>\n",
       "<tbody>\n",
       "\t<tr><th scope=row>BIF.CO.Close</th><td> 1.00000000</td><td>0.15733898</td><td> 0.28441881</td><td> 0.21335669</td><td> 0.26233049</td><td> 0.2606153</td><td>-0.06984649</td><td>-0.02751612</td><td>-0.02829640</td></tr>\n",
       "\t<tr><th scope=row>Score</th><td> 0.15733898</td><td>1.00000000</td><td> 0.50446049</td><td> 0.33481100</td><td> 0.06874149</td><td> 0.3363252</td><td> 0.45924385</td><td> 0.56522204</td><td> 0.57034100</td></tr>\n",
       "\t<tr><th scope=row>Positive</th><td> 0.28441881</td><td>0.50446049</td><td> 1.00000000</td><td> 0.83862471</td><td> 0.87899023</td><td> 0.9484998</td><td>-0.01516663</td><td> 0.03398096</td><td> 0.02999836</td></tr>\n",
       "\t<tr><th scope=row>Neutral</th><td> 0.21335669</td><td>0.33481100</td><td> 0.83862471</td><td> 1.00000000</td><td> 0.78531704</td><td> 0.9543595</td><td>-0.08906151</td><td>-0.06671370</td><td>-0.12099339</td></tr>\n",
       "\t<tr><th scope=row>Negative</th><td> 0.26233049</td><td>0.06874149</td><td> 0.87899023</td><td> 0.78531704</td><td> 1.00000000</td><td> 0.9173409</td><td>-0.31863450</td><td>-0.32211209</td><td>-0.32532931</td></tr>\n",
       "\t<tr><th scope=row>Volume</th><td> 0.26061530</td><td>0.33632525</td><td> 0.94849975</td><td> 0.95435945</td><td> 0.91734090</td><td> 1.0000000</td><td>-0.13240835</td><td>-0.10738336</td><td>-0.13619283</td></tr>\n",
       "\t<tr><th scope=row>Ratio</th><td>-0.06984649</td><td>0.45924385</td><td>-0.01516663</td><td>-0.08906151</td><td>-0.31863450</td><td>-0.1324084</td><td> 1.00000000</td><td> 0.92104621</td><td> 0.90334015</td></tr>\n",
       "\t<tr><th scope=row>Polarity</th><td>-0.02751612</td><td>0.56522204</td><td> 0.03398096</td><td>-0.06671370</td><td>-0.32211209</td><td>-0.1073834</td><td> 0.92104621</td><td> 1.00000000</td><td> 0.97726970</td></tr>\n",
       "\t<tr><th scope=row>Composite</th><td>-0.02829640</td><td>0.57034100</td><td> 0.02999836</td><td>-0.12099339</td><td>-0.32532931</td><td>-0.1361928</td><td> 0.90334015</td><td> 0.97726970</td><td> 1.00000000</td></tr>\n",
       "</tbody>\n",
       "</table>\n"
      ],
      "text/latex": [
       "A matrix: 9 × 9 of type dbl\n",
       "\\begin{tabular}{r|lllllllll}\n",
       "  & BIF.CO.Close & Score & Positive & Neutral & Negative & Volume & Ratio & Polarity & Composite\\\\\n",
       "\\hline\n",
       "\tBIF.CO.Close &  1.00000000 & 0.15733898 &  0.28441881 &  0.21335669 &  0.26233049 &  0.2606153 & -0.06984649 & -0.02751612 & -0.02829640\\\\\n",
       "\tScore &  0.15733898 & 1.00000000 &  0.50446049 &  0.33481100 &  0.06874149 &  0.3363252 &  0.45924385 &  0.56522204 &  0.57034100\\\\\n",
       "\tPositive &  0.28441881 & 0.50446049 &  1.00000000 &  0.83862471 &  0.87899023 &  0.9484998 & -0.01516663 &  0.03398096 &  0.02999836\\\\\n",
       "\tNeutral &  0.21335669 & 0.33481100 &  0.83862471 &  1.00000000 &  0.78531704 &  0.9543595 & -0.08906151 & -0.06671370 & -0.12099339\\\\\n",
       "\tNegative &  0.26233049 & 0.06874149 &  0.87899023 &  0.78531704 &  1.00000000 &  0.9173409 & -0.31863450 & -0.32211209 & -0.32532931\\\\\n",
       "\tVolume &  0.26061530 & 0.33632525 &  0.94849975 &  0.95435945 &  0.91734090 &  1.0000000 & -0.13240835 & -0.10738336 & -0.13619283\\\\\n",
       "\tRatio & -0.06984649 & 0.45924385 & -0.01516663 & -0.08906151 & -0.31863450 & -0.1324084 &  1.00000000 &  0.92104621 &  0.90334015\\\\\n",
       "\tPolarity & -0.02751612 & 0.56522204 &  0.03398096 & -0.06671370 & -0.32211209 & -0.1073834 &  0.92104621 &  1.00000000 &  0.97726970\\\\\n",
       "\tComposite & -0.02829640 & 0.57034100 &  0.02999836 & -0.12099339 & -0.32532931 & -0.1361928 &  0.90334015 &  0.97726970 &  1.00000000\\\\\n",
       "\\end{tabular}\n"
      ],
      "text/markdown": [
       "\n",
       "A matrix: 9 × 9 of type dbl\n",
       "\n",
       "| <!--/--> | BIF.CO.Close | Score | Positive | Neutral | Negative | Volume | Ratio | Polarity | Composite |\n",
       "|---|---|---|---|---|---|---|---|---|---|\n",
       "| BIF.CO.Close |  1.00000000 | 0.15733898 |  0.28441881 |  0.21335669 |  0.26233049 |  0.2606153 | -0.06984649 | -0.02751612 | -0.02829640 |\n",
       "| Score |  0.15733898 | 1.00000000 |  0.50446049 |  0.33481100 |  0.06874149 |  0.3363252 |  0.45924385 |  0.56522204 |  0.57034100 |\n",
       "| Positive |  0.28441881 | 0.50446049 |  1.00000000 |  0.83862471 |  0.87899023 |  0.9484998 | -0.01516663 |  0.03398096 |  0.02999836 |\n",
       "| Neutral |  0.21335669 | 0.33481100 |  0.83862471 |  1.00000000 |  0.78531704 |  0.9543595 | -0.08906151 | -0.06671370 | -0.12099339 |\n",
       "| Negative |  0.26233049 | 0.06874149 |  0.87899023 |  0.78531704 |  1.00000000 |  0.9173409 | -0.31863450 | -0.32211209 | -0.32532931 |\n",
       "| Volume |  0.26061530 | 0.33632525 |  0.94849975 |  0.95435945 |  0.91734090 |  1.0000000 | -0.13240835 | -0.10738336 | -0.13619283 |\n",
       "| Ratio | -0.06984649 | 0.45924385 | -0.01516663 | -0.08906151 | -0.31863450 | -0.1324084 |  1.00000000 |  0.92104621 |  0.90334015 |\n",
       "| Polarity | -0.02751612 | 0.56522204 |  0.03398096 | -0.06671370 | -0.32211209 | -0.1073834 |  0.92104621 |  1.00000000 |  0.97726970 |\n",
       "| Composite | -0.02829640 | 0.57034100 |  0.02999836 | -0.12099339 | -0.32532931 | -0.1361928 |  0.90334015 |  0.97726970 |  1.00000000 |\n",
       "\n"
      ],
      "text/plain": [
       "             BIF.CO.Close Score      Positive    Neutral     Negative   \n",
       "BIF.CO.Close  1.00000000  0.15733898  0.28441881  0.21335669  0.26233049\n",
       "Score         0.15733898  1.00000000  0.50446049  0.33481100  0.06874149\n",
       "Positive      0.28441881  0.50446049  1.00000000  0.83862471  0.87899023\n",
       "Neutral       0.21335669  0.33481100  0.83862471  1.00000000  0.78531704\n",
       "Negative      0.26233049  0.06874149  0.87899023  0.78531704  1.00000000\n",
       "Volume        0.26061530  0.33632525  0.94849975  0.95435945  0.91734090\n",
       "Ratio        -0.06984649  0.45924385 -0.01516663 -0.08906151 -0.31863450\n",
       "Polarity     -0.02751612  0.56522204  0.03398096 -0.06671370 -0.32211209\n",
       "Composite    -0.02829640  0.57034100  0.02999836 -0.12099339 -0.32532931\n",
       "             Volume     Ratio       Polarity    Composite  \n",
       "BIF.CO.Close  0.2606153 -0.06984649 -0.02751612 -0.02829640\n",
       "Score         0.3363252  0.45924385  0.56522204  0.57034100\n",
       "Positive      0.9484998 -0.01516663  0.03398096  0.02999836\n",
       "Neutral       0.9543595 -0.08906151 -0.06671370 -0.12099339\n",
       "Negative      0.9173409 -0.31863450 -0.32211209 -0.32532931\n",
       "Volume        1.0000000 -0.13240835 -0.10738336 -0.13619283\n",
       "Ratio        -0.1324084  1.00000000  0.92104621  0.90334015\n",
       "Polarity     -0.1073834  0.92104621  1.00000000  0.97726970\n",
       "Composite    -0.1361928  0.90334015  0.97726970  1.00000000"
      ]
     },
     "metadata": {},
     "output_type": "display_data"
    }
   ],
   "source": [
    "cor(data[complete.cases(data),])"
   ]
  },
  {
   "cell_type": "code",
   "execution_count": 59,
   "metadata": {
    "collapsed": true
   },
   "outputs": [
    {
     "name": "stderr",
     "output_type": "stream",
     "text": [
      "Warning message:\n",
      "\"^OMXC25 download failed; trying again.\"\n"
     ]
    },
    {
     "ename": "ERROR",
     "evalue": "Error in getSymbols.yahoo(Symbols = \"^OMXC25\", env = <environment>, verbose = FALSE, : Unable to import \"^OMXC25\".\n^OMXC25 download failed after two attempts. Error message:\nHTTP error 404.\n",
     "output_type": "error",
     "traceback": [
      "Error in getSymbols.yahoo(Symbols = \"^OMXC25\", env = <environment>, verbose = FALSE, : Unable to import \"^OMXC25\".\n^OMXC25 download failed after two attempts. Error message:\nHTTP error 404.\nTraceback:\n",
      "1. getSymbols(\"^OMXC25\", scr = \"yahoo\", from = \"2017-01-01\", to = \"2019-12-31\")",
      "2. do.call(paste(\"getSymbols.\", symbol.source, sep = \"\"), list(Symbols = current.symbols, \n .     env = env, verbose = verbose, warnings = warnings, auto.assign = auto.assign, \n .     ..., .has1sym. = .has1sym.))",
      "3. getSymbols.yahoo(Symbols = \"^OMXC25\", env = <environment>, verbose = FALSE, \n .     warnings = TRUE, auto.assign = TRUE, scr = \"yahoo\", from = \"2017-01-01\", \n .     to = \"2019-12-31\", .has1sym. = TRUE)",
      "4. stop(msg)"
     ]
    }
   ],
   "source": [
    "getSymbols('^OMXC25', scr='yahoo', from = \"2017-01-01\", to = \"2019-12-31\") # Проблемы... Сделаем вручную"
   ]
  },
  {
   "cell_type": "code",
   "execution_count": 239,
   "metadata": {},
   "outputs": [],
   "source": [
    "OMXC25 <- read.csv('Downloads/OMX_Copenhagen_25_Historical_Data.csv') # биржа Копенгагена\n",
    "colnames(OMXC25)[1] <- 'Date'\n",
    "OMXC25$Date <- anydate(OMXC25$Date)\n",
    "OMXC25$Price <- as.numeric(gsub(',', '', OMXC25$Price))\n",
    "OMXC25 <- to_xts(OMXC25)"
   ]
  },
  {
   "cell_type": "code",
   "execution_count": 240,
   "metadata": {},
   "outputs": [],
   "source": [
    "data <- merge(data, OMXC25$Price)"
   ]
  },
  {
   "cell_type": "code",
   "execution_count": 241,
   "metadata": {},
   "outputs": [
    {
     "data": {
      "text/plain": [
       "           BIF.CO.Close Score Positive Neutral Negative Volume    Ratio\n",
       "2017-01-01           NA     3        3       4        1      8 3.000000\n",
       "2017-01-02     0.489458    -2        5      19        8     32 0.625000\n",
       "2017-01-03     0.493949     8       11      18        6     35 1.833333\n",
       "2017-01-04     0.493949    22       26      20       13     59 2.000000\n",
       "2017-01-05     0.489458     9       16      44       12     72 1.333333\n",
       "2017-01-06     0.493949     8       16      15        9     40 1.777778\n",
       "             Polarity   Composite   Price\n",
       "2017-01-01  0.5000000  0.25000000      NA\n",
       "2017-01-02 -0.2307692 -0.09375000 1034.03\n",
       "2017-01-03  0.2941176  0.14285714 1030.89\n",
       "2017-01-04  0.3333333  0.22033898 1025.78\n",
       "2017-01-05  0.1428571  0.05555556 1034.99\n",
       "2017-01-06  0.2800000  0.17500000 1037.59"
      ]
     },
     "metadata": {},
     "output_type": "display_data"
    }
   ],
   "source": [
    "head(data)"
   ]
  },
  {
   "cell_type": "code",
   "execution_count": 242,
   "metadata": {},
   "outputs": [],
   "source": [
    "colnames(data)[ncol(data)] <- 'OMXC'"
   ]
  },
  {
   "cell_type": "markdown",
   "metadata": {},
   "source": [
    "## 6. Построение линейных моделей"
   ]
  },
  {
   "cell_type": "markdown",
   "metadata": {},
   "source": [
    "### 6.1. Модель 1. Срез понедельников"
   ]
  },
  {
   "cell_type": "code",
   "execution_count": 243,
   "metadata": {},
   "outputs": [],
   "source": [
    "for_lm <- as.data.frame(data)"
   ]
  },
  {
   "cell_type": "code",
   "execution_count": 244,
   "metadata": {},
   "outputs": [],
   "source": [
    "for_lm$y <- dplyr::lead(for_lm$BIF.CO.Close)"
   ]
  },
  {
   "cell_type": "code",
   "execution_count": 245,
   "metadata": {
    "scrolled": true
   },
   "outputs": [],
   "source": [
    "for_lm <- for_lm[complete.cases(for_lm),]"
   ]
  },
  {
   "cell_type": "code",
   "execution_count": 246,
   "metadata": {},
   "outputs": [],
   "source": [
    "for_lm <- diff(log(as.ts(range01(for_lm))))"
   ]
  },
  {
   "cell_type": "code",
   "execution_count": 247,
   "metadata": {},
   "outputs": [
    {
     "data": {
      "text/html": [
       "586"
      ],
      "text/latex": [
       "586"
      ],
      "text/markdown": [
       "586"
      ],
      "text/plain": [
       "[1] 586"
      ]
     },
     "metadata": {},
     "output_type": "display_data"
    }
   ],
   "source": [
    "nrow(for_lm)"
   ]
  },
  {
   "cell_type": "code",
   "execution_count": 248,
   "metadata": {},
   "outputs": [],
   "source": [
    "for_lm <- as.data.frame(for_lm)"
   ]
  },
  {
   "cell_type": "code",
   "execution_count": 249,
   "metadata": {},
   "outputs": [],
   "source": [
    "for_lm$Score[!is.finite(for_lm$Score)] <- 0"
   ]
  },
  {
   "cell_type": "code",
   "execution_count": 250,
   "metadata": {},
   "outputs": [
    {
     "data": {
      "text/html": [
       "<table>\n",
       "<caption>A matrix: 11 × 11 of type dbl</caption>\n",
       "<thead>\n",
       "\t<tr><th></th><th scope=col>BIF.CO.Close</th><th scope=col>Score</th><th scope=col>Positive</th><th scope=col>Neutral</th><th scope=col>Negative</th><th scope=col>Volume</th><th scope=col>Ratio</th><th scope=col>Polarity</th><th scope=col>Composite</th><th scope=col>OMXC</th><th scope=col>y</th></tr>\n",
       "</thead>\n",
       "<tbody>\n",
       "\t<tr><th scope=row>BIF.CO.Close</th><td> 1.00000000</td><td>-0.03583644</td><td>0.033791987</td><td> 0.04890963</td><td> 0.02957138</td><td> 0.02773046</td><td> 0.01513709</td><td> 0.026539649</td><td> 0.03177380</td><td> 0.10737037</td><td> 0.549883357</td></tr>\n",
       "\t<tr><th scope=row>Score</th><td>-0.03583644</td><td> 1.00000000</td><td>0.318139205</td><td> 0.17968400</td><td>-0.08600992</td><td> 0.16443302</td><td> 0.36252213</td><td> 0.466262162</td><td> 0.47420557</td><td>-0.01650694</td><td> 0.019681046</td></tr>\n",
       "\t<tr><th scope=row>Positive</th><td> 0.03379199</td><td> 0.31813920</td><td>1.000000000</td><td> 0.86050831</td><td> 0.83565244</td><td> 0.94647893</td><td> 0.10081627</td><td> 0.144347944</td><td> 0.14122815</td><td> 0.04310000</td><td> 0.004129623</td></tr>\n",
       "\t<tr><th scope=row>Neutral</th><td> 0.04890963</td><td> 0.17968400</td><td>0.860508307</td><td> 1.00000000</td><td> 0.80589118</td><td> 0.94533271</td><td>-0.04583498</td><td>-0.021250232</td><td>-0.06447949</td><td> 0.07913704</td><td>-0.030510087</td></tr>\n",
       "\t<tr><th scope=row>Negative</th><td> 0.02957138</td><td>-0.08600992</td><td>0.835652438</td><td> 0.80589118</td><td> 1.00000000</td><td> 0.91133545</td><td>-0.30080627</td><td>-0.315375626</td><td>-0.31977082</td><td> 0.06032023</td><td>-0.010528264</td></tr>\n",
       "\t<tr><th scope=row>Volume</th><td> 0.02773046</td><td> 0.16443302</td><td>0.946478925</td><td> 0.94533271</td><td> 0.91133545</td><td> 1.00000000</td><td>-0.08752543</td><td>-0.062965832</td><td>-0.08557270</td><td> 0.05533492</td><td>-0.012278404</td></tr>\n",
       "\t<tr><th scope=row>Ratio</th><td> 0.01513709</td><td> 0.36252213</td><td>0.100816267</td><td>-0.04583498</td><td>-0.30080627</td><td>-0.08752543</td><td> 1.00000000</td><td> 0.915126964</td><td> 0.90937934</td><td>-0.01144107</td><td> 0.018160654</td></tr>\n",
       "\t<tr><th scope=row>Polarity</th><td> 0.02653965</td><td> 0.46626216</td><td>0.144347944</td><td>-0.02125023</td><td>-0.31537563</td><td>-0.06296583</td><td> 0.91512696</td><td> 1.000000000</td><td> 0.97588125</td><td>-0.02328110</td><td> 0.008589479</td></tr>\n",
       "\t<tr><th scope=row>Composite</th><td> 0.03177380</td><td> 0.47420557</td><td>0.141228152</td><td>-0.06447949</td><td>-0.31977082</td><td>-0.08557270</td><td> 0.90937934</td><td> 0.975881255</td><td> 1.00000000</td><td>-0.03442363</td><td> 0.014933124</td></tr>\n",
       "\t<tr><th scope=row>OMXC</th><td> 0.10737037</td><td>-0.01650694</td><td>0.043100004</td><td> 0.07913704</td><td> 0.06032023</td><td> 0.05533492</td><td>-0.01144107</td><td>-0.023281100</td><td>-0.03442363</td><td> 1.00000000</td><td> 0.099922446</td></tr>\n",
       "\t<tr><th scope=row>y</th><td> 0.54988336</td><td> 0.01968105</td><td>0.004129623</td><td>-0.03051009</td><td>-0.01052826</td><td>-0.01227840</td><td> 0.01816065</td><td> 0.008589479</td><td> 0.01493312</td><td> 0.09992245</td><td> 1.000000000</td></tr>\n",
       "</tbody>\n",
       "</table>\n"
      ],
      "text/latex": [
       "A matrix: 11 × 11 of type dbl\n",
       "\\begin{tabular}{r|lllllllllll}\n",
       "  & BIF.CO.Close & Score & Positive & Neutral & Negative & Volume & Ratio & Polarity & Composite & OMXC & y\\\\\n",
       "\\hline\n",
       "\tBIF.CO.Close &  1.00000000 & -0.03583644 & 0.033791987 &  0.04890963 &  0.02957138 &  0.02773046 &  0.01513709 &  0.026539649 &  0.03177380 &  0.10737037 &  0.549883357\\\\\n",
       "\tScore & -0.03583644 &  1.00000000 & 0.318139205 &  0.17968400 & -0.08600992 &  0.16443302 &  0.36252213 &  0.466262162 &  0.47420557 & -0.01650694 &  0.019681046\\\\\n",
       "\tPositive &  0.03379199 &  0.31813920 & 1.000000000 &  0.86050831 &  0.83565244 &  0.94647893 &  0.10081627 &  0.144347944 &  0.14122815 &  0.04310000 &  0.004129623\\\\\n",
       "\tNeutral &  0.04890963 &  0.17968400 & 0.860508307 &  1.00000000 &  0.80589118 &  0.94533271 & -0.04583498 & -0.021250232 & -0.06447949 &  0.07913704 & -0.030510087\\\\\n",
       "\tNegative &  0.02957138 & -0.08600992 & 0.835652438 &  0.80589118 &  1.00000000 &  0.91133545 & -0.30080627 & -0.315375626 & -0.31977082 &  0.06032023 & -0.010528264\\\\\n",
       "\tVolume &  0.02773046 &  0.16443302 & 0.946478925 &  0.94533271 &  0.91133545 &  1.00000000 & -0.08752543 & -0.062965832 & -0.08557270 &  0.05533492 & -0.012278404\\\\\n",
       "\tRatio &  0.01513709 &  0.36252213 & 0.100816267 & -0.04583498 & -0.30080627 & -0.08752543 &  1.00000000 &  0.915126964 &  0.90937934 & -0.01144107 &  0.018160654\\\\\n",
       "\tPolarity &  0.02653965 &  0.46626216 & 0.144347944 & -0.02125023 & -0.31537563 & -0.06296583 &  0.91512696 &  1.000000000 &  0.97588125 & -0.02328110 &  0.008589479\\\\\n",
       "\tComposite &  0.03177380 &  0.47420557 & 0.141228152 & -0.06447949 & -0.31977082 & -0.08557270 &  0.90937934 &  0.975881255 &  1.00000000 & -0.03442363 &  0.014933124\\\\\n",
       "\tOMXC &  0.10737037 & -0.01650694 & 0.043100004 &  0.07913704 &  0.06032023 &  0.05533492 & -0.01144107 & -0.023281100 & -0.03442363 &  1.00000000 &  0.099922446\\\\\n",
       "\ty &  0.54988336 &  0.01968105 & 0.004129623 & -0.03051009 & -0.01052826 & -0.01227840 &  0.01816065 &  0.008589479 &  0.01493312 &  0.09992245 &  1.000000000\\\\\n",
       "\\end{tabular}\n"
      ],
      "text/markdown": [
       "\n",
       "A matrix: 11 × 11 of type dbl\n",
       "\n",
       "| <!--/--> | BIF.CO.Close | Score | Positive | Neutral | Negative | Volume | Ratio | Polarity | Composite | OMXC | y |\n",
       "|---|---|---|---|---|---|---|---|---|---|---|---|\n",
       "| BIF.CO.Close |  1.00000000 | -0.03583644 | 0.033791987 |  0.04890963 |  0.02957138 |  0.02773046 |  0.01513709 |  0.026539649 |  0.03177380 |  0.10737037 |  0.549883357 |\n",
       "| Score | -0.03583644 |  1.00000000 | 0.318139205 |  0.17968400 | -0.08600992 |  0.16443302 |  0.36252213 |  0.466262162 |  0.47420557 | -0.01650694 |  0.019681046 |\n",
       "| Positive |  0.03379199 |  0.31813920 | 1.000000000 |  0.86050831 |  0.83565244 |  0.94647893 |  0.10081627 |  0.144347944 |  0.14122815 |  0.04310000 |  0.004129623 |\n",
       "| Neutral |  0.04890963 |  0.17968400 | 0.860508307 |  1.00000000 |  0.80589118 |  0.94533271 | -0.04583498 | -0.021250232 | -0.06447949 |  0.07913704 | -0.030510087 |\n",
       "| Negative |  0.02957138 | -0.08600992 | 0.835652438 |  0.80589118 |  1.00000000 |  0.91133545 | -0.30080627 | -0.315375626 | -0.31977082 |  0.06032023 | -0.010528264 |\n",
       "| Volume |  0.02773046 |  0.16443302 | 0.946478925 |  0.94533271 |  0.91133545 |  1.00000000 | -0.08752543 | -0.062965832 | -0.08557270 |  0.05533492 | -0.012278404 |\n",
       "| Ratio |  0.01513709 |  0.36252213 | 0.100816267 | -0.04583498 | -0.30080627 | -0.08752543 |  1.00000000 |  0.915126964 |  0.90937934 | -0.01144107 |  0.018160654 |\n",
       "| Polarity |  0.02653965 |  0.46626216 | 0.144347944 | -0.02125023 | -0.31537563 | -0.06296583 |  0.91512696 |  1.000000000 |  0.97588125 | -0.02328110 |  0.008589479 |\n",
       "| Composite |  0.03177380 |  0.47420557 | 0.141228152 | -0.06447949 | -0.31977082 | -0.08557270 |  0.90937934 |  0.975881255 |  1.00000000 | -0.03442363 |  0.014933124 |\n",
       "| OMXC |  0.10737037 | -0.01650694 | 0.043100004 |  0.07913704 |  0.06032023 |  0.05533492 | -0.01144107 | -0.023281100 | -0.03442363 |  1.00000000 |  0.099922446 |\n",
       "| y |  0.54988336 |  0.01968105 | 0.004129623 | -0.03051009 | -0.01052826 | -0.01227840 |  0.01816065 |  0.008589479 |  0.01493312 |  0.09992245 |  1.000000000 |\n",
       "\n"
      ],
      "text/plain": [
       "             BIF.CO.Close Score       Positive    Neutral     Negative   \n",
       "BIF.CO.Close  1.00000000  -0.03583644 0.033791987  0.04890963  0.02957138\n",
       "Score        -0.03583644   1.00000000 0.318139205  0.17968400 -0.08600992\n",
       "Positive      0.03379199   0.31813920 1.000000000  0.86050831  0.83565244\n",
       "Neutral       0.04890963   0.17968400 0.860508307  1.00000000  0.80589118\n",
       "Negative      0.02957138  -0.08600992 0.835652438  0.80589118  1.00000000\n",
       "Volume        0.02773046   0.16443302 0.946478925  0.94533271  0.91133545\n",
       "Ratio         0.01513709   0.36252213 0.100816267 -0.04583498 -0.30080627\n",
       "Polarity      0.02653965   0.46626216 0.144347944 -0.02125023 -0.31537563\n",
       "Composite     0.03177380   0.47420557 0.141228152 -0.06447949 -0.31977082\n",
       "OMXC          0.10737037  -0.01650694 0.043100004  0.07913704  0.06032023\n",
       "y             0.54988336   0.01968105 0.004129623 -0.03051009 -0.01052826\n",
       "             Volume      Ratio       Polarity     Composite   OMXC       \n",
       "BIF.CO.Close  0.02773046  0.01513709  0.026539649  0.03177380  0.10737037\n",
       "Score         0.16443302  0.36252213  0.466262162  0.47420557 -0.01650694\n",
       "Positive      0.94647893  0.10081627  0.144347944  0.14122815  0.04310000\n",
       "Neutral       0.94533271 -0.04583498 -0.021250232 -0.06447949  0.07913704\n",
       "Negative      0.91133545 -0.30080627 -0.315375626 -0.31977082  0.06032023\n",
       "Volume        1.00000000 -0.08752543 -0.062965832 -0.08557270  0.05533492\n",
       "Ratio        -0.08752543  1.00000000  0.915126964  0.90937934 -0.01144107\n",
       "Polarity     -0.06296583  0.91512696  1.000000000  0.97588125 -0.02328110\n",
       "Composite    -0.08557270  0.90937934  0.975881255  1.00000000 -0.03442363\n",
       "OMXC          0.05533492 -0.01144107 -0.023281100 -0.03442363  1.00000000\n",
       "y            -0.01227840  0.01816065  0.008589479  0.01493312  0.09992245\n",
       "             y           \n",
       "BIF.CO.Close  0.549883357\n",
       "Score         0.019681046\n",
       "Positive      0.004129623\n",
       "Neutral      -0.030510087\n",
       "Negative     -0.010528264\n",
       "Volume       -0.012278404\n",
       "Ratio         0.018160654\n",
       "Polarity      0.008589479\n",
       "Composite     0.014933124\n",
       "OMXC          0.099922446\n",
       "y             1.000000000"
      ]
     },
     "metadata": {},
     "output_type": "display_data"
    }
   ],
   "source": [
    "cor(for_lm)"
   ]
  },
  {
   "cell_type": "code",
   "execution_count": 251,
   "metadata": {},
   "outputs": [],
   "source": [
    "m1 <- lm(y~ BIF.CO.Close + Neutral + OMXC + Score + Composite, data = for_lm)"
   ]
  },
  {
   "cell_type": "code",
   "execution_count": 252,
   "metadata": {},
   "outputs": [
    {
     "data": {
      "text/plain": [
       "\n",
       "Call:\n",
       "lm(formula = y ~ BIF.CO.Close + Neutral + OMXC + Score + Composite, \n",
       "    data = for_lm)\n",
       "\n",
       "Residuals:\n",
       "       Min         1Q     Median         3Q        Max \n",
       "-2.456e-03 -7.458e-05 -3.700e-07  7.280e-05  1.611e-03 \n",
       "\n",
       "Coefficients:\n",
       "               Estimate Std. Error t value Pr(>|t|)    \n",
       "(Intercept)  -5.749e-07  9.743e-06  -0.059   0.9530    \n",
       "BIF.CO.Close  5.779e-01  3.638e-02  15.883   <2e-16 ***\n",
       "Neutral      -9.293e-05  4.309e-05  -2.156   0.0315 *  \n",
       "OMXC          1.612e-03  1.206e-03   1.337   0.1816    \n",
       "Score         6.962e-05  3.830e-05   1.818   0.0696 .  \n",
       "Composite    -1.161e-02  1.133e-02  -1.025   0.3057    \n",
       "---\n",
       "Signif. codes:  0 '***' 0.001 '**' 0.01 '*' 0.05 '.' 0.1 ' ' 1\n",
       "\n",
       "Residual standard error: 0.0002357 on 580 degrees of freedom\n",
       "Multiple R-squared:  0.3117,\tAdjusted R-squared:  0.3058 \n",
       "F-statistic: 52.53 on 5 and 580 DF,  p-value: < 2.2e-16\n"
      ]
     },
     "metadata": {},
     "output_type": "display_data"
    }
   ],
   "source": [
    "summary(m1)"
   ]
  },
  {
   "cell_type": "code",
   "execution_count": 253,
   "metadata": {},
   "outputs": [
    {
     "data": {
      "text/html": [
       "527.4"
      ],
      "text/latex": [
       "527.4"
      ],
      "text/markdown": [
       "527.4"
      ],
      "text/plain": [
       "[1] 527.4"
      ]
     },
     "metadata": {},
     "output_type": "display_data"
    },
    {
     "data": {
      "text/html": [
       "586"
      ],
      "text/latex": [
       "586"
      ],
      "text/markdown": [
       "586"
      ],
      "text/plain": [
       "[1] 586"
      ]
     },
     "metadata": {},
     "output_type": "display_data"
    }
   ],
   "source": [
    "nrow(for_lm) * 0.9\n",
    "nrow(for_lm)"
   ]
  },
  {
   "cell_type": "code",
   "execution_count": 254,
   "metadata": {},
   "outputs": [],
   "source": [
    "lm_train <- for_lm[1:528,]\n",
    "lm_test <- for_lm[529:586,]"
   ]
  },
  {
   "cell_type": "code",
   "execution_count": 255,
   "metadata": {},
   "outputs": [],
   "source": [
    "m1 <- lm(y~ BIF.CO.Close + Neutral + OMXC + Score + Composite, data = lm_train)"
   ]
  },
  {
   "cell_type": "code",
   "execution_count": 256,
   "metadata": {},
   "outputs": [
    {
     "data": {
      "text/plain": [
       "\n",
       "Call:\n",
       "lm(formula = y ~ BIF.CO.Close + Neutral + OMXC + Score + Composite, \n",
       "    data = lm_train)\n",
       "\n",
       "Residuals:\n",
       "       Min         1Q     Median         3Q        Max \n",
       "-2.462e-03 -7.538e-05  2.600e-07  7.148e-05  1.609e-03 \n",
       "\n",
       "Coefficients:\n",
       "               Estimate Std. Error t value Pr(>|t|)    \n",
       "(Intercept)   4.970e-07  1.073e-05   0.046   0.9631    \n",
       "BIF.CO.Close  5.815e-01  3.830e-02  15.181   <2e-16 ***\n",
       "Neutral      -9.797e-05  4.560e-05  -2.149   0.0321 *  \n",
       "OMXC          1.795e-03  1.338e-03   1.341   0.1804    \n",
       "Score         7.041e-05  4.043e-05   1.741   0.0822 .  \n",
       "Composite    -1.097e-02  1.243e-02  -0.882   0.3780    \n",
       "---\n",
       "Signif. codes:  0 '***' 0.001 '**' 0.01 '*' 0.05 '.' 0.1 ' ' 1\n",
       "\n",
       "Residual standard error: 0.0002465 on 522 degrees of freedom\n",
       "Multiple R-squared:  0.3167,\tAdjusted R-squared:  0.3101 \n",
       "F-statistic: 48.39 on 5 and 522 DF,  p-value: < 2.2e-16\n"
      ]
     },
     "metadata": {},
     "output_type": "display_data"
    }
   ],
   "source": [
    "summary(m1)"
   ]
  },
  {
   "cell_type": "code",
   "execution_count": 257,
   "metadata": {},
   "outputs": [],
   "source": [
    "lm_pred <- predict(m1, lm_test)"
   ]
  },
  {
   "cell_type": "code",
   "execution_count": 258,
   "metadata": {},
   "outputs": [
    {
     "data": {
      "image/png": "[encoded data removed]",
      "text/plain": [
       "Plot with title \"Accuracy of model: 0.569%\""
      ]
     },
     "metadata": {
      "image/png": {
       "height": 420,
       "width": 420
      },
      "text/plain": {
       "height": 420,
       "width": 420
      }
     },
     "output_type": "display_data"
    }
   ],
   "source": [
    "plot(lm_pred[1:40], t = 'l', col = 'red3', ylab = 'BIF share price log-differences', \n",
    "     xlab = 'Days after model is built', ylim = c(-0.00025,0.00025), \n",
    "     main = paste0('Accuracy of model: ', round(accuracy(lm_test$y, lm_pred), digits = 3), '%'))\n",
    "lines(lm_test$y[1:40], col = 'blue3')\n",
    "legend(legend = c('Actual', ' Prediction'), fill = c('blue3', 'red3'), 'topright')"
   ]
  },
  {
   "cell_type": "markdown",
   "metadata": {},
   "source": [
    "### 6.2. Модель 2. Лог-доходности метрик за предыдущий торговый день"
   ]
  },
  {
   "cell_type": "code",
   "execution_count": 259,
   "metadata": {},
   "outputs": [],
   "source": [
    "for_lm1 <- as.data.frame(data)\n",
    "for_lm1$BIF.CO.Close <- dplyr::lead(for_lm1$BIF.CO.Close)\n",
    "for_lm1$OMXC <- dplyr::lead(for_lm1$OMXC)\n",
    "for_lm1 <- for_lm1[complete.cases(for_lm1),]\n",
    "colnames(for_lm1)[1] <- 'y'\n",
    "for_lm1$BIF.CO.Close <- dplyr::lag(for_lm1$y)\n",
    "for_lm1$OMXC <- dplyr::lag(for_lm1$OMXC)\n",
    "for_lm1 <- for_lm1[-1,]\n",
    "for_lm1 <- diff(log(as.ts(range01(for_lm1))))\n",
    "for_lm1 <- as.data.frame(for_lm1)\n",
    "for_lm1$Score[!is.finite(for_lm1$Score)] <- 0"
   ]
  },
  {
   "cell_type": "code",
   "execution_count": 260,
   "metadata": {},
   "outputs": [
    {
     "data": {
      "text/html": [
       "<table>\n",
       "<caption>A matrix: 11 × 11 of type dbl</caption>\n",
       "<thead>\n",
       "\t<tr><th></th><th scope=col>y</th><th scope=col>Score</th><th scope=col>Positive</th><th scope=col>Neutral</th><th scope=col>Negative</th><th scope=col>Volume</th><th scope=col>Ratio</th><th scope=col>Polarity</th><th scope=col>Composite</th><th scope=col>OMXC</th><th scope=col>BIF.CO.Close</th></tr>\n",
       "</thead>\n",
       "<tbody>\n",
       "\t<tr><th scope=row>y</th><td> 1.00000000</td><td> 0.027814709</td><td>-0.022702731</td><td>-0.03855233</td><td>-0.032360803</td><td>-0.02996341</td><td> 0.021599459</td><td> 0.0128087130</td><td> 0.01708618</td><td> 0.051790562</td><td>-0.0278279391</td></tr>\n",
       "\t<tr><th scope=row>Score</th><td> 0.02781471</td><td> 1.000000000</td><td> 0.345884819</td><td> 0.20865552</td><td> 0.001363129</td><td> 0.20335333</td><td> 0.333721717</td><td> 0.4677958796</td><td> 0.47494574</td><td>-0.037484514</td><td>-0.0401475716</td></tr>\n",
       "\t<tr><th scope=row>Positive</th><td>-0.02270273</td><td> 0.345884819</td><td> 1.000000000</td><td> 0.90893954</td><td> 0.891987726</td><td> 0.96212974</td><td>-0.001884244</td><td> 0.0512920869</td><td> 0.04220910</td><td> 0.023681731</td><td> 0.0089662391</td></tr>\n",
       "\t<tr><th scope=row>Neutral</th><td>-0.03855233</td><td> 0.208655517</td><td> 0.908939538</td><td> 1.00000000</td><td> 0.872144389</td><td> 0.96689657</td><td>-0.112037053</td><td>-0.0850260270</td><td>-0.12612970</td><td> 0.045694530</td><td> 0.0290908138</td></tr>\n",
       "\t<tr><th scope=row>Negative</th><td>-0.03236080</td><td> 0.001363129</td><td> 0.891987726</td><td> 0.87214439</td><td> 1.000000000</td><td> 0.93915943</td><td>-0.294820339</td><td>-0.3076893601</td><td>-0.31577719</td><td> 0.047810291</td><td> 0.0157372510</td></tr>\n",
       "\t<tr><th scope=row>Volume</th><td>-0.02996341</td><td> 0.203353333</td><td> 0.962129742</td><td> 0.96689657</td><td> 0.939159433</td><td> 1.00000000</td><td>-0.148455079</td><td>-0.1198132991</td><td>-0.14438915</td><td> 0.031138479</td><td> 0.0167611971</td></tr>\n",
       "\t<tr><th scope=row>Ratio</th><td> 0.02159946</td><td> 0.333721717</td><td>-0.001884244</td><td>-0.11203705</td><td>-0.294820339</td><td>-0.14845508</td><td> 1.000000000</td><td> 0.9135459572</td><td> 0.89301177</td><td> 0.006495286</td><td>-0.0105084970</td></tr>\n",
       "\t<tr><th scope=row>Polarity</th><td> 0.01280871</td><td> 0.467795880</td><td> 0.051292087</td><td>-0.08502603</td><td>-0.307689360</td><td>-0.11981330</td><td> 0.913545957</td><td> 1.0000000000</td><td> 0.97664088</td><td>-0.014780643</td><td> 0.0002432753</td></tr>\n",
       "\t<tr><th scope=row>Composite</th><td> 0.01708618</td><td> 0.474945736</td><td> 0.042209103</td><td>-0.12612970</td><td>-0.315777193</td><td>-0.14438915</td><td> 0.893011768</td><td> 0.9766408789</td><td> 1.00000000</td><td>-0.031924129</td><td>-0.0013758598</td></tr>\n",
       "\t<tr><th scope=row>OMXC</th><td> 0.05179056</td><td>-0.037484514</td><td> 0.023681731</td><td> 0.04569453</td><td> 0.047810291</td><td> 0.03113848</td><td> 0.006495286</td><td>-0.0147806426</td><td>-0.03192413</td><td> 1.000000000</td><td> 0.1147375709</td></tr>\n",
       "\t<tr><th scope=row>BIF.CO.Close</th><td>-0.02782794</td><td>-0.040147572</td><td> 0.008966239</td><td> 0.02909081</td><td> 0.015737251</td><td> 0.01676120</td><td>-0.010508497</td><td> 0.0002432753</td><td>-0.00137586</td><td> 0.114737571</td><td> 1.0000000000</td></tr>\n",
       "</tbody>\n",
       "</table>\n"
      ],
      "text/latex": [
       "A matrix: 11 × 11 of type dbl\n",
       "\\begin{tabular}{r|lllllllllll}\n",
       "  & y & Score & Positive & Neutral & Negative & Volume & Ratio & Polarity & Composite & OMXC & BIF.CO.Close\\\\\n",
       "\\hline\n",
       "\ty &  1.00000000 &  0.027814709 & -0.022702731 & -0.03855233 & -0.032360803 & -0.02996341 &  0.021599459 &  0.0128087130 &  0.01708618 &  0.051790562 & -0.0278279391\\\\\n",
       "\tScore &  0.02781471 &  1.000000000 &  0.345884819 &  0.20865552 &  0.001363129 &  0.20335333 &  0.333721717 &  0.4677958796 &  0.47494574 & -0.037484514 & -0.0401475716\\\\\n",
       "\tPositive & -0.02270273 &  0.345884819 &  1.000000000 &  0.90893954 &  0.891987726 &  0.96212974 & -0.001884244 &  0.0512920869 &  0.04220910 &  0.023681731 &  0.0089662391\\\\\n",
       "\tNeutral & -0.03855233 &  0.208655517 &  0.908939538 &  1.00000000 &  0.872144389 &  0.96689657 & -0.112037053 & -0.0850260270 & -0.12612970 &  0.045694530 &  0.0290908138\\\\\n",
       "\tNegative & -0.03236080 &  0.001363129 &  0.891987726 &  0.87214439 &  1.000000000 &  0.93915943 & -0.294820339 & -0.3076893601 & -0.31577719 &  0.047810291 &  0.0157372510\\\\\n",
       "\tVolume & -0.02996341 &  0.203353333 &  0.962129742 &  0.96689657 &  0.939159433 &  1.00000000 & -0.148455079 & -0.1198132991 & -0.14438915 &  0.031138479 &  0.0167611971\\\\\n",
       "\tRatio &  0.02159946 &  0.333721717 & -0.001884244 & -0.11203705 & -0.294820339 & -0.14845508 &  1.000000000 &  0.9135459572 &  0.89301177 &  0.006495286 & -0.0105084970\\\\\n",
       "\tPolarity &  0.01280871 &  0.467795880 &  0.051292087 & -0.08502603 & -0.307689360 & -0.11981330 &  0.913545957 &  1.0000000000 &  0.97664088 & -0.014780643 &  0.0002432753\\\\\n",
       "\tComposite &  0.01708618 &  0.474945736 &  0.042209103 & -0.12612970 & -0.315777193 & -0.14438915 &  0.893011768 &  0.9766408789 &  1.00000000 & -0.031924129 & -0.0013758598\\\\\n",
       "\tOMXC &  0.05179056 & -0.037484514 &  0.023681731 &  0.04569453 &  0.047810291 &  0.03113848 &  0.006495286 & -0.0147806426 & -0.03192413 &  1.000000000 &  0.1147375709\\\\\n",
       "\tBIF.CO.Close & -0.02782794 & -0.040147572 &  0.008966239 &  0.02909081 &  0.015737251 &  0.01676120 & -0.010508497 &  0.0002432753 & -0.00137586 &  0.114737571 &  1.0000000000\\\\\n",
       "\\end{tabular}\n"
      ],
      "text/markdown": [
       "\n",
       "A matrix: 11 × 11 of type dbl\n",
       "\n",
       "| <!--/--> | y | Score | Positive | Neutral | Negative | Volume | Ratio | Polarity | Composite | OMXC | BIF.CO.Close |\n",
       "|---|---|---|---|---|---|---|---|---|---|---|---|\n",
       "| y |  1.00000000 |  0.027814709 | -0.022702731 | -0.03855233 | -0.032360803 | -0.02996341 |  0.021599459 |  0.0128087130 |  0.01708618 |  0.051790562 | -0.0278279391 |\n",
       "| Score |  0.02781471 |  1.000000000 |  0.345884819 |  0.20865552 |  0.001363129 |  0.20335333 |  0.333721717 |  0.4677958796 |  0.47494574 | -0.037484514 | -0.0401475716 |\n",
       "| Positive | -0.02270273 |  0.345884819 |  1.000000000 |  0.90893954 |  0.891987726 |  0.96212974 | -0.001884244 |  0.0512920869 |  0.04220910 |  0.023681731 |  0.0089662391 |\n",
       "| Neutral | -0.03855233 |  0.208655517 |  0.908939538 |  1.00000000 |  0.872144389 |  0.96689657 | -0.112037053 | -0.0850260270 | -0.12612970 |  0.045694530 |  0.0290908138 |\n",
       "| Negative | -0.03236080 |  0.001363129 |  0.891987726 |  0.87214439 |  1.000000000 |  0.93915943 | -0.294820339 | -0.3076893601 | -0.31577719 |  0.047810291 |  0.0157372510 |\n",
       "| Volume | -0.02996341 |  0.203353333 |  0.962129742 |  0.96689657 |  0.939159433 |  1.00000000 | -0.148455079 | -0.1198132991 | -0.14438915 |  0.031138479 |  0.0167611971 |\n",
       "| Ratio |  0.02159946 |  0.333721717 | -0.001884244 | -0.11203705 | -0.294820339 | -0.14845508 |  1.000000000 |  0.9135459572 |  0.89301177 |  0.006495286 | -0.0105084970 |\n",
       "| Polarity |  0.01280871 |  0.467795880 |  0.051292087 | -0.08502603 | -0.307689360 | -0.11981330 |  0.913545957 |  1.0000000000 |  0.97664088 | -0.014780643 |  0.0002432753 |\n",
       "| Composite |  0.01708618 |  0.474945736 |  0.042209103 | -0.12612970 | -0.315777193 | -0.14438915 |  0.893011768 |  0.9766408789 |  1.00000000 | -0.031924129 | -0.0013758598 |\n",
       "| OMXC |  0.05179056 | -0.037484514 |  0.023681731 |  0.04569453 |  0.047810291 |  0.03113848 |  0.006495286 | -0.0147806426 | -0.03192413 |  1.000000000 |  0.1147375709 |\n",
       "| BIF.CO.Close | -0.02782794 | -0.040147572 |  0.008966239 |  0.02909081 |  0.015737251 |  0.01676120 | -0.010508497 |  0.0002432753 | -0.00137586 |  0.114737571 |  1.0000000000 |\n",
       "\n"
      ],
      "text/plain": [
       "             y           Score        Positive     Neutral     Negative    \n",
       "y             1.00000000  0.027814709 -0.022702731 -0.03855233 -0.032360803\n",
       "Score         0.02781471  1.000000000  0.345884819  0.20865552  0.001363129\n",
       "Positive     -0.02270273  0.345884819  1.000000000  0.90893954  0.891987726\n",
       "Neutral      -0.03855233  0.208655517  0.908939538  1.00000000  0.872144389\n",
       "Negative     -0.03236080  0.001363129  0.891987726  0.87214439  1.000000000\n",
       "Volume       -0.02996341  0.203353333  0.962129742  0.96689657  0.939159433\n",
       "Ratio         0.02159946  0.333721717 -0.001884244 -0.11203705 -0.294820339\n",
       "Polarity      0.01280871  0.467795880  0.051292087 -0.08502603 -0.307689360\n",
       "Composite     0.01708618  0.474945736  0.042209103 -0.12612970 -0.315777193\n",
       "OMXC          0.05179056 -0.037484514  0.023681731  0.04569453  0.047810291\n",
       "BIF.CO.Close -0.02782794 -0.040147572  0.008966239  0.02909081  0.015737251\n",
       "             Volume      Ratio        Polarity      Composite   OMXC        \n",
       "y            -0.02996341  0.021599459  0.0128087130  0.01708618  0.051790562\n",
       "Score         0.20335333  0.333721717  0.4677958796  0.47494574 -0.037484514\n",
       "Positive      0.96212974 -0.001884244  0.0512920869  0.04220910  0.023681731\n",
       "Neutral       0.96689657 -0.112037053 -0.0850260270 -0.12612970  0.045694530\n",
       "Negative      0.93915943 -0.294820339 -0.3076893601 -0.31577719  0.047810291\n",
       "Volume        1.00000000 -0.148455079 -0.1198132991 -0.14438915  0.031138479\n",
       "Ratio        -0.14845508  1.000000000  0.9135459572  0.89301177  0.006495286\n",
       "Polarity     -0.11981330  0.913545957  1.0000000000  0.97664088 -0.014780643\n",
       "Composite    -0.14438915  0.893011768  0.9766408789  1.00000000 -0.031924129\n",
       "OMXC          0.03113848  0.006495286 -0.0147806426 -0.03192413  1.000000000\n",
       "BIF.CO.Close  0.01676120 -0.010508497  0.0002432753 -0.00137586  0.114737571\n",
       "             BIF.CO.Close \n",
       "y            -0.0278279391\n",
       "Score        -0.0401475716\n",
       "Positive      0.0089662391\n",
       "Neutral       0.0290908138\n",
       "Negative      0.0157372510\n",
       "Volume        0.0167611971\n",
       "Ratio        -0.0105084970\n",
       "Polarity      0.0002432753\n",
       "Composite    -0.0013758598\n",
       "OMXC          0.1147375709\n",
       "BIF.CO.Close  1.0000000000"
      ]
     },
     "metadata": {},
     "output_type": "display_data"
    }
   ],
   "source": [
    "cor(for_lm1)"
   ]
  },
  {
   "cell_type": "code",
   "execution_count": 261,
   "metadata": {},
   "outputs": [],
   "source": [
    "m2 <- lm(y ~ BIF.CO.Close + Neutral + OMXC + Score + Ratio, data = for_lm1)"
   ]
  },
  {
   "cell_type": "code",
   "execution_count": 262,
   "metadata": {},
   "outputs": [
    {
     "data": {
      "text/plain": [
       "\n",
       "Call:\n",
       "lm(formula = y ~ BIF.CO.Close + Neutral + OMXC + Score + Ratio, \n",
       "    data = for_lm1)\n",
       "\n",
       "Residuals:\n",
       "       Min         1Q     Median         3Q        Max \n",
       "-0.0043019 -0.0000610 -0.0000001  0.0000569  0.0017016 \n",
       "\n",
       "Coefficients:\n",
       "               Estimate Std. Error t value Pr(>|t|)\n",
       "(Intercept)  -5.918e-07  9.375e-06  -0.063    0.950\n",
       "BIF.CO.Close -3.166e-02  3.695e-02  -0.857    0.392\n",
       "Neutral      -4.273e-05  3.420e-05  -1.249    0.212\n",
       "OMXC          2.114e-03  1.325e-03   1.595    0.111\n",
       "Score         3.228e-05  3.453e-05   0.935    0.350\n",
       "Ratio         1.124e-04  1.531e-03   0.073    0.942\n",
       "\n",
       "Residual standard error: 0.0002557 on 739 degrees of freedom\n",
       "Multiple R-squared:  0.006897,\tAdjusted R-squared:  0.0001774 \n",
       "F-statistic: 1.026 on 5 and 739 DF,  p-value: 0.4009\n"
      ]
     },
     "metadata": {},
     "output_type": "display_data"
    }
   ],
   "source": [
    "summary(m2) # вообще незначимая модель"
   ]
  },
  {
   "cell_type": "markdown",
   "metadata": {},
   "source": [
    "### 6.3. Модель 3. Лог-доходности метрик за прыдущий день"
   ]
  },
  {
   "cell_type": "code",
   "execution_count": 325,
   "metadata": {},
   "outputs": [],
   "source": [
    "for_lm3 <- merge(diff(log(data$BIF.CO.Close[complete.cases(data$BIF.CO.Close),])),\n",
    "                diff(log(range01(data[,-c(1,10)]))), all = FALSE,\n",
    "                diff(log(data$OMXC[complete.cases(data$OMXC),])))"
   ]
  },
  {
   "cell_type": "code",
   "execution_count": 326,
   "metadata": {},
   "outputs": [],
   "source": [
    "for_lm3 <- for_lm3[-1,]\n",
    "for_lm3 <- as.data.frame(for_lm3)\n",
    "for_lm3$Score[!is.finite(for_lm3$Score)] <- 0"
   ]
  },
  {
   "cell_type": "code",
   "execution_count": 328,
   "metadata": {},
   "outputs": [],
   "source": [
    "for_lm3$y <- dplyr::lead(for_lm3$BIF.CO.Close)\n",
    "for_lm3 <- for_lm3[-nrow(for_lm3),]"
   ]
  },
  {
   "cell_type": "code",
   "execution_count": 329,
   "metadata": {},
   "outputs": [
    {
     "data": {
      "text/html": [
       "<table>\n",
       "<caption>A matrix: 11 × 11 of type dbl</caption>\n",
       "<thead>\n",
       "\t<tr><th></th><th scope=col>BIF.CO.Close</th><th scope=col>Score</th><th scope=col>Positive</th><th scope=col>Neutral</th><th scope=col>Negative</th><th scope=col>Volume</th><th scope=col>Ratio</th><th scope=col>Polarity</th><th scope=col>Composite</th><th scope=col>OMXC</th><th scope=col>y</th></tr>\n",
       "</thead>\n",
       "<tbody>\n",
       "\t<tr><th scope=row>BIF.CO.Close</th><td> 1.000000000</td><td>-0.06663490</td><td> 0.02752573</td><td> 0.05957536</td><td> 0.04358594</td><td> 0.04418585</td><td>-0.01204770</td><td> 0.0087903739</td><td> 0.004390568</td><td> 0.1210903627</td><td> 0.01654080</td></tr>\n",
       "\t<tr><th scope=row>Score</th><td>-0.066634897</td><td> 1.00000000</td><td> 0.33317272</td><td> 0.17950126</td><td>-0.04514195</td><td> 0.17559024</td><td> 0.36078903</td><td> 0.4812522747</td><td> 0.487655984</td><td>-0.0408834359</td><td> 0.03399950</td></tr>\n",
       "\t<tr><th scope=row>Positive</th><td> 0.027525725</td><td> 0.33317272</td><td> 1.00000000</td><td> 0.87614115</td><td> 0.86391295</td><td> 0.95006085</td><td> 0.06603574</td><td> 0.1176955670</td><td> 0.112227441</td><td> 0.0192013040</td><td>-0.01551489</td></tr>\n",
       "\t<tr><th scope=row>Neutral</th><td> 0.059575361</td><td> 0.17950126</td><td> 0.87614115</td><td> 1.00000000</td><td> 0.83450941</td><td> 0.95716543</td><td>-0.06936184</td><td>-0.0453556931</td><td>-0.093118437</td><td> 0.0571615486</td><td>-0.02326147</td></tr>\n",
       "\t<tr><th scope=row>Negative</th><td> 0.043585940</td><td>-0.04514195</td><td> 0.86391295</td><td> 0.83450941</td><td> 1.00000000</td><td> 0.92049689</td><td>-0.28529574</td><td>-0.2961368877</td><td>-0.299983995</td><td> 0.0478629720</td><td>-0.03256625</td></tr>\n",
       "\t<tr><th scope=row>Volume</th><td> 0.044185846</td><td> 0.17559024</td><td> 0.95006085</td><td> 0.95716543</td><td> 0.92049689</td><td> 1.00000000</td><td>-0.10135995</td><td>-0.0736811627</td><td>-0.100207491</td><td> 0.0346188810</td><td>-0.01767847</td></tr>\n",
       "\t<tr><th scope=row>Ratio</th><td>-0.012047703</td><td> 0.36078903</td><td> 0.06603574</td><td>-0.06936184</td><td>-0.28529574</td><td>-0.10135995</td><td> 1.00000000</td><td> 0.9212134515</td><td> 0.902710128</td><td> 0.0271122136</td><td> 0.03425942</td></tr>\n",
       "\t<tr><th scope=row>Polarity</th><td> 0.008790374</td><td> 0.48125227</td><td> 0.11769557</td><td>-0.04535569</td><td>-0.29613689</td><td>-0.07368116</td><td> 0.92121345</td><td> 1.0000000000</td><td> 0.976704569</td><td>-0.0001313394</td><td> 0.02593469</td></tr>\n",
       "\t<tr><th scope=row>Composite</th><td> 0.004390568</td><td> 0.48765598</td><td> 0.11222744</td><td>-0.09311844</td><td>-0.29998399</td><td>-0.10020749</td><td> 0.90271013</td><td> 0.9767045694</td><td> 1.000000000</td><td>-0.0198423872</td><td> 0.02745493</td></tr>\n",
       "\t<tr><th scope=row>OMXC</th><td> 0.121090363</td><td>-0.04088344</td><td> 0.01920130</td><td> 0.05716155</td><td> 0.04786297</td><td> 0.03461888</td><td> 0.02711221</td><td>-0.0001313394</td><td>-0.019842387</td><td> 1.0000000000</td><td> 0.05879147</td></tr>\n",
       "\t<tr><th scope=row>y</th><td> 0.016540797</td><td> 0.03399950</td><td>-0.01551489</td><td>-0.02326147</td><td>-0.03256625</td><td>-0.01767847</td><td> 0.03425942</td><td> 0.0259346930</td><td> 0.027454931</td><td> 0.0587914674</td><td> 1.00000000</td></tr>\n",
       "</tbody>\n",
       "</table>\n"
      ],
      "text/latex": [
       "A matrix: 11 × 11 of type dbl\n",
       "\\begin{tabular}{r|lllllllllll}\n",
       "  & BIF.CO.Close & Score & Positive & Neutral & Negative & Volume & Ratio & Polarity & Composite & OMXC & y\\\\\n",
       "\\hline\n",
       "\tBIF.CO.Close &  1.000000000 & -0.06663490 &  0.02752573 &  0.05957536 &  0.04358594 &  0.04418585 & -0.01204770 &  0.0087903739 &  0.004390568 &  0.1210903627 &  0.01654080\\\\\n",
       "\tScore & -0.066634897 &  1.00000000 &  0.33317272 &  0.17950126 & -0.04514195 &  0.17559024 &  0.36078903 &  0.4812522747 &  0.487655984 & -0.0408834359 &  0.03399950\\\\\n",
       "\tPositive &  0.027525725 &  0.33317272 &  1.00000000 &  0.87614115 &  0.86391295 &  0.95006085 &  0.06603574 &  0.1176955670 &  0.112227441 &  0.0192013040 & -0.01551489\\\\\n",
       "\tNeutral &  0.059575361 &  0.17950126 &  0.87614115 &  1.00000000 &  0.83450941 &  0.95716543 & -0.06936184 & -0.0453556931 & -0.093118437 &  0.0571615486 & -0.02326147\\\\\n",
       "\tNegative &  0.043585940 & -0.04514195 &  0.86391295 &  0.83450941 &  1.00000000 &  0.92049689 & -0.28529574 & -0.2961368877 & -0.299983995 &  0.0478629720 & -0.03256625\\\\\n",
       "\tVolume &  0.044185846 &  0.17559024 &  0.95006085 &  0.95716543 &  0.92049689 &  1.00000000 & -0.10135995 & -0.0736811627 & -0.100207491 &  0.0346188810 & -0.01767847\\\\\n",
       "\tRatio & -0.012047703 &  0.36078903 &  0.06603574 & -0.06936184 & -0.28529574 & -0.10135995 &  1.00000000 &  0.9212134515 &  0.902710128 &  0.0271122136 &  0.03425942\\\\\n",
       "\tPolarity &  0.008790374 &  0.48125227 &  0.11769557 & -0.04535569 & -0.29613689 & -0.07368116 &  0.92121345 &  1.0000000000 &  0.976704569 & -0.0001313394 &  0.02593469\\\\\n",
       "\tComposite &  0.004390568 &  0.48765598 &  0.11222744 & -0.09311844 & -0.29998399 & -0.10020749 &  0.90271013 &  0.9767045694 &  1.000000000 & -0.0198423872 &  0.02745493\\\\\n",
       "\tOMXC &  0.121090363 & -0.04088344 &  0.01920130 &  0.05716155 &  0.04786297 &  0.03461888 &  0.02711221 & -0.0001313394 & -0.019842387 &  1.0000000000 &  0.05879147\\\\\n",
       "\ty &  0.016540797 &  0.03399950 & -0.01551489 & -0.02326147 & -0.03256625 & -0.01767847 &  0.03425942 &  0.0259346930 &  0.027454931 &  0.0587914674 &  1.00000000\\\\\n",
       "\\end{tabular}\n"
      ],
      "text/markdown": [
       "\n",
       "A matrix: 11 × 11 of type dbl\n",
       "\n",
       "| <!--/--> | BIF.CO.Close | Score | Positive | Neutral | Negative | Volume | Ratio | Polarity | Composite | OMXC | y |\n",
       "|---|---|---|---|---|---|---|---|---|---|---|---|\n",
       "| BIF.CO.Close |  1.000000000 | -0.06663490 |  0.02752573 |  0.05957536 |  0.04358594 |  0.04418585 | -0.01204770 |  0.0087903739 |  0.004390568 |  0.1210903627 |  0.01654080 |\n",
       "| Score | -0.066634897 |  1.00000000 |  0.33317272 |  0.17950126 | -0.04514195 |  0.17559024 |  0.36078903 |  0.4812522747 |  0.487655984 | -0.0408834359 |  0.03399950 |\n",
       "| Positive |  0.027525725 |  0.33317272 |  1.00000000 |  0.87614115 |  0.86391295 |  0.95006085 |  0.06603574 |  0.1176955670 |  0.112227441 |  0.0192013040 | -0.01551489 |\n",
       "| Neutral |  0.059575361 |  0.17950126 |  0.87614115 |  1.00000000 |  0.83450941 |  0.95716543 | -0.06936184 | -0.0453556931 | -0.093118437 |  0.0571615486 | -0.02326147 |\n",
       "| Negative |  0.043585940 | -0.04514195 |  0.86391295 |  0.83450941 |  1.00000000 |  0.92049689 | -0.28529574 | -0.2961368877 | -0.299983995 |  0.0478629720 | -0.03256625 |\n",
       "| Volume |  0.044185846 |  0.17559024 |  0.95006085 |  0.95716543 |  0.92049689 |  1.00000000 | -0.10135995 | -0.0736811627 | -0.100207491 |  0.0346188810 | -0.01767847 |\n",
       "| Ratio | -0.012047703 |  0.36078903 |  0.06603574 | -0.06936184 | -0.28529574 | -0.10135995 |  1.00000000 |  0.9212134515 |  0.902710128 |  0.0271122136 |  0.03425942 |\n",
       "| Polarity |  0.008790374 |  0.48125227 |  0.11769557 | -0.04535569 | -0.29613689 | -0.07368116 |  0.92121345 |  1.0000000000 |  0.976704569 | -0.0001313394 |  0.02593469 |\n",
       "| Composite |  0.004390568 |  0.48765598 |  0.11222744 | -0.09311844 | -0.29998399 | -0.10020749 |  0.90271013 |  0.9767045694 |  1.000000000 | -0.0198423872 |  0.02745493 |\n",
       "| OMXC |  0.121090363 | -0.04088344 |  0.01920130 |  0.05716155 |  0.04786297 |  0.03461888 |  0.02711221 | -0.0001313394 | -0.019842387 |  1.0000000000 |  0.05879147 |\n",
       "| y |  0.016540797 |  0.03399950 | -0.01551489 | -0.02326147 | -0.03256625 | -0.01767847 |  0.03425942 |  0.0259346930 |  0.027454931 |  0.0587914674 |  1.00000000 |\n",
       "\n"
      ],
      "text/plain": [
       "             BIF.CO.Close Score       Positive    Neutral     Negative   \n",
       "BIF.CO.Close  1.000000000 -0.06663490  0.02752573  0.05957536  0.04358594\n",
       "Score        -0.066634897  1.00000000  0.33317272  0.17950126 -0.04514195\n",
       "Positive      0.027525725  0.33317272  1.00000000  0.87614115  0.86391295\n",
       "Neutral       0.059575361  0.17950126  0.87614115  1.00000000  0.83450941\n",
       "Negative      0.043585940 -0.04514195  0.86391295  0.83450941  1.00000000\n",
       "Volume        0.044185846  0.17559024  0.95006085  0.95716543  0.92049689\n",
       "Ratio        -0.012047703  0.36078903  0.06603574 -0.06936184 -0.28529574\n",
       "Polarity      0.008790374  0.48125227  0.11769557 -0.04535569 -0.29613689\n",
       "Composite     0.004390568  0.48765598  0.11222744 -0.09311844 -0.29998399\n",
       "OMXC          0.121090363 -0.04088344  0.01920130  0.05716155  0.04786297\n",
       "y             0.016540797  0.03399950 -0.01551489 -0.02326147 -0.03256625\n",
       "             Volume      Ratio       Polarity      Composite    OMXC         \n",
       "BIF.CO.Close  0.04418585 -0.01204770  0.0087903739  0.004390568  0.1210903627\n",
       "Score         0.17559024  0.36078903  0.4812522747  0.487655984 -0.0408834359\n",
       "Positive      0.95006085  0.06603574  0.1176955670  0.112227441  0.0192013040\n",
       "Neutral       0.95716543 -0.06936184 -0.0453556931 -0.093118437  0.0571615486\n",
       "Negative      0.92049689 -0.28529574 -0.2961368877 -0.299983995  0.0478629720\n",
       "Volume        1.00000000 -0.10135995 -0.0736811627 -0.100207491  0.0346188810\n",
       "Ratio        -0.10135995  1.00000000  0.9212134515  0.902710128  0.0271122136\n",
       "Polarity     -0.07368116  0.92121345  1.0000000000  0.976704569 -0.0001313394\n",
       "Composite    -0.10020749  0.90271013  0.9767045694  1.000000000 -0.0198423872\n",
       "OMXC          0.03461888  0.02711221 -0.0001313394 -0.019842387  1.0000000000\n",
       "y            -0.01767847  0.03425942  0.0259346930  0.027454931  0.0587914674\n",
       "             y          \n",
       "BIF.CO.Close  0.01654080\n",
       "Score         0.03399950\n",
       "Positive     -0.01551489\n",
       "Neutral      -0.02326147\n",
       "Negative     -0.03256625\n",
       "Volume       -0.01767847\n",
       "Ratio         0.03425942\n",
       "Polarity      0.02593469\n",
       "Composite     0.02745493\n",
       "OMXC          0.05879147\n",
       "y             1.00000000"
      ]
     },
     "metadata": {},
     "output_type": "display_data"
    }
   ],
   "source": [
    "cor(for_lm3)"
   ]
  },
  {
   "cell_type": "code",
   "execution_count": 330,
   "metadata": {},
   "outputs": [],
   "source": [
    "m3 <- lm(y ~ BIF.CO.Close + Neutral + OMXC + Score + Ratio, data = for_lm3)"
   ]
  },
  {
   "cell_type": "code",
   "execution_count": 331,
   "metadata": {},
   "outputs": [
    {
     "data": {
      "text/plain": [
       "\n",
       "Call:\n",
       "lm(formula = y ~ BIF.CO.Close + Neutral + OMXC + Score + Ratio, \n",
       "    data = for_lm3)\n",
       "\n",
       "Residuals:\n",
       "     Min       1Q   Median       3Q      Max \n",
       "-0.41197 -0.01229 -0.00032  0.01263  0.15582 \n",
       "\n",
       "Coefficients:\n",
       "               Estimate Std. Error t value Pr(>|t|)\n",
       "(Intercept)  -0.0002396  0.0011736  -0.204    0.838\n",
       "BIF.CO.Close  0.0139219  0.0371128   0.375    0.708\n",
       "Neutral      -0.0041041  0.0047091  -0.872    0.384\n",
       "OMXC          0.2336876  0.1442806   1.620    0.106\n",
       "Score         0.0041514  0.0045293   0.917    0.360\n",
       "Ratio         0.0844444  0.1964367   0.430    0.667\n",
       "\n",
       "Residual standard error: 0.03151 on 739 degrees of freedom\n",
       "Multiple R-squared:  0.006377,\tAdjusted R-squared:  -0.0003459 \n",
       "F-statistic: 0.9485 on 5 and 739 DF,  p-value: 0.4488\n"
      ]
     },
     "metadata": {},
     "output_type": "display_data"
    }
   ],
   "source": [
    "summary(m3) # тоже незначимая модель"
   ]
  },
  {
   "cell_type": "markdown",
   "metadata": {},
   "source": [
    "### 6.4. Модель 1 с переобучением"
   ]
  },
  {
   "cell_type": "code",
   "execution_count": null,
   "metadata": {},
   "outputs": [],
   "source": []
  },
  {
   "cell_type": "code",
   "execution_count": null,
   "metadata": {},
   "outputs": [],
   "source": []
  },
  {
   "cell_type": "code",
   "execution_count": null,
   "metadata": {},
   "outputs": [],
   "source": []
  },
  {
   "cell_type": "code",
   "execution_count": null,
   "metadata": {},
   "outputs": [],
   "source": []
  },
  {
   "cell_type": "markdown",
   "metadata": {},
   "source": [
    "## 7. Построение нелинейных моделей на основе tsfeatures и autoML "
   ]
  },
  {
   "cell_type": "code",
   "execution_count": 334,
   "metadata": {},
   "outputs": [
    {
     "name": "stdout",
     "output_type": "stream",
     "text": [
      " Connection successful!\n",
      "\n",
      "R is connected to the H2O cluster: \n",
      "    H2O cluster uptime:         58 seconds 211 milliseconds \n",
      "    H2O cluster timezone:       Europe/Moscow \n",
      "    H2O data parsing timezone:  UTC \n",
      "    H2O cluster version:        3.30.0.1 \n",
      "    H2O cluster version age:    18 days  \n",
      "    H2O cluster name:           H2O_started_from_R_Р СљР С‘РЎвЂљРЎРЏ_lpr650 \n",
      "    H2O cluster total nodes:    1 \n",
      "    H2O cluster total memory:   0.66 GB \n",
      "    H2O cluster total cores:    8 \n",
      "    H2O cluster allowed cores:  8 \n",
      "    H2O cluster healthy:        TRUE \n",
      "    H2O Connection ip:          localhost \n",
      "    H2O Connection port:        54321 \n",
      "    H2O Connection proxy:       NA \n",
      "    H2O Internal Security:      FALSE \n",
      "    H2O API Extensions:         Amazon S3, Algos, AutoML, Core V3, TargetEncoder, Core V4 \n",
      "    R Version:                  R version 3.6.1 (2019-07-05) \n",
      "\n"
     ]
    }
   ],
   "source": [
    "h2o.init() # Подключениек H2O"
   ]
  },
  {
   "cell_type": "markdown",
   "metadata": {},
   "source": [
    "### 7.1. Модель 1. Абсолютные значения, 10 лаговых переменных"
   ]
  },
  {
   "cell_type": "code",
   "execution_count": 351,
   "metadata": {},
   "outputs": [],
   "source": [
    "for_autoML <- as.data.frame(data)"
   ]
  },
  {
   "cell_type": "code",
   "execution_count": 352,
   "metadata": {},
   "outputs": [],
   "source": [
    "for_autoML <- for_autoML[complete.cases(for_autoML),]"
   ]
  },
  {
   "cell_type": "code",
   "execution_count": 353,
   "metadata": {},
   "outputs": [],
   "source": [
    "for (i in 3:(nrow(x = for_autoML))) { # Создание статистических метрик \n",
    "    x = 10 # Количество столбцов\n",
    "    f_list <- for_autoML[c(1:i),c(1:x)]\n",
    "    myfeatures <- tsfeatures(f_list)\n",
    "    myfeatures  <- as.data.frame(myfeatures)\n",
    "    for (k in 1:nrow(myfeatures)){\n",
    "        a <- myfeatures[k,]\n",
    "        colnames(a) <- paste0(colnames(a), '.', colnames(for_autoML)[k])\n",
    "        col1 <- x+1+(k-1)*(ncol(a))\n",
    "        col2 <-  x+1+k*(ncol(a)) - 1\n",
    "        for_autoML[i, c(col1:col2)] <- a\n",
    "    }\n",
    "}"
   ]
  },
  {
   "cell_type": "code",
   "execution_count": 354,
   "metadata": {},
   "outputs": [],
   "source": [
    "for_autoML <- for_autoML[-c(1:2),] # Удаляю первые строчки, по которым не считались метрики"
   ]
  },
  {
   "cell_type": "code",
   "execution_count": 355,
   "metadata": {},
   "outputs": [],
   "source": [
    "for_autoML <- for_autoML[,colSums(is.na(for_autoML))<nrow(for_autoML)] # Удаляю все столбцы, где только NA  "
   ]
  },
  {
   "cell_type": "code",
   "execution_count": 356,
   "metadata": {},
   "outputs": [],
   "source": [
    "while (sum(is.na(for_autoML)) != 0){\n",
    "    for_autoML <- for_autoML[-1,]\n",
    "}"
   ]
  },
  {
   "cell_type": "code",
   "execution_count": 360,
   "metadata": {},
   "outputs": [
    {
     "data": {
      "text/html": [
       "<style>\n",
       ".list-inline {list-style: none; margin:0; padding: 0}\n",
       ".list-inline>li {display: inline-block}\n",
       ".list-inline>li:not(:last-child)::after {content: \"\\00b7\"; padding: 0 .5ex}\n",
       "</style>\n",
       "<ol class=list-inline><li>737</li><li>161</li></ol>\n"
      ],
      "text/latex": [
       "\\begin{enumerate*}\n",
       "\\item 737\n",
       "\\item 161\n",
       "\\end{enumerate*}\n"
      ],
      "text/markdown": [
       "1. 737\n",
       "2. 161\n",
       "\n",
       "\n"
      ],
      "text/plain": [
       "[1] 737 161"
      ]
     },
     "metadata": {},
     "output_type": "display_data"
    }
   ],
   "source": [
    "dim(for_autoML)"
   ]
  },
  {
   "cell_type": "code",
   "execution_count": 362,
   "metadata": {},
   "outputs": [],
   "source": [
    "for (l in 1:10){ # Количество лаговых переменных для создания\n",
    "    for (j in 1:160){\n",
    "        for_autoML[,(160*l+j)] <- dplyr::lag(for_autoML[,j], n = l)\n",
    "        colnames(for_autoML)[as.numeric((160*l+j))] <- as.character(paste0(as.character(colnames(for_autoML)[(j)]), '.l', l))\n",
    "    }\n",
    "}"
   ]
  },
  {
   "cell_type": "code",
   "execution_count": 364,
   "metadata": {},
   "outputs": [],
   "source": [
    "for_autoML <- for_autoML[-c(1:l),]"
   ]
  },
  {
   "cell_type": "code",
   "execution_count": 372,
   "metadata": {},
   "outputs": [],
   "source": [
    "for_autoML$y <- dplyr::lead(for_autoML$BIF.CO.Close)"
   ]
  },
  {
   "cell_type": "code",
   "execution_count": 376,
   "metadata": {},
   "outputs": [],
   "source": [
    "y <- 'y'"
   ]
  },
  {
   "cell_type": "code",
   "execution_count": 373,
   "metadata": {},
   "outputs": [],
   "source": [
    "for_autoML <- for_autoML[-nrow(for_autoML),]"
   ]
  },
  {
   "cell_type": "code",
   "execution_count": 374,
   "metadata": {},
   "outputs": [
    {
     "data": {
      "text/html": [
       "726"
      ],
      "text/latex": [
       "726"
      ],
      "text/markdown": [
       "726"
      ],
      "text/plain": [
       "[1] 726"
      ]
     },
     "metadata": {},
     "output_type": "display_data"
    },
    {
     "data": {
      "text/html": [
       "653.4"
      ],
      "text/latex": [
       "653.4"
      ],
      "text/markdown": [
       "653.4"
      ],
      "text/plain": [
       "[1] 653.4"
      ]
     },
     "metadata": {},
     "output_type": "display_data"
    }
   ],
   "source": [
    "nrow(for_autoML)\n",
    "nrow(for_autoML) * 0.9"
   ]
  },
  {
   "cell_type": "code",
   "execution_count": 375,
   "metadata": {
    "collapsed": true
   },
   "outputs": [
    {
     "name": "stderr",
     "output_type": "stream",
     "text": [
      "Warning message in use.package(\"data.table\"):\n",
      "\"data.table cannot be used without R package bit64 version 0.9.7 or higher.  Please upgrade to take advangage of data.table speedups.\"\n"
     ]
    },
    {
     "name": "stdout",
     "output_type": "stream",
     "text": [
      "  |======================================================================| 100%\n"
     ]
    },
    {
     "name": "stderr",
     "output_type": "stream",
     "text": [
      "Warning message in use.package(\"data.table\"):\n",
      "\"data.table cannot be used without R package bit64 version 0.9.7 or higher.  Please upgrade to take advangage of data.table speedups.\"\n"
     ]
    },
    {
     "name": "stdout",
     "output_type": "stream",
     "text": [
      "  |======================================================================| 100%\n"
     ]
    }
   ],
   "source": [
    "train <- as.h2o(for_autoML[c(1:653),])\n",
    "test <- as.h2o(for_autoML[c(654:726),])"
   ]
  },
  {
   "cell_type": "code",
   "execution_count": 378,
   "metadata": {},
   "outputs": [
    {
     "name": "stdout",
     "output_type": "stream",
     "text": [
      "  |                                                                      |   0%\n",
      "  |======================================================================| 100%\n"
     ]
    }
   ],
   "source": [
    "oldw <- getOption(\"warn\")\n",
    "options(warn = -1)\n",
    "aml <- h2o.automl(y = y,\n",
    "                  training_frame = train,\n",
    "                # leaderboard_frame = test,\n",
    "                  max_runtime_secs = 300,\n",
    "                  seed = 1,\n",
    "                  project_name = \"aml\")\n",
    "options(warn = oldw)"
   ]
  },
  {
   "cell_type": "code",
   "execution_count": 379,
   "metadata": {
    "collapsed": true
   },
   "outputs": [
    {
     "data": {
      "text/plain": [
       "                                             model_id mean_residual_deviance\n",
       "1 StackedEnsemble_BestOfFamily_AutoML_20200422_042503            0.001230940\n",
       "2    StackedEnsemble_AllModels_AutoML_20200422_042503            0.001238365\n",
       "3          GBM_grid__1_AutoML_20200422_042503_model_1            0.001329967\n",
       "4                        DRF_1_AutoML_20200422_042503            0.001449920\n",
       "5                        XRT_1_AutoML_20200422_042503            0.002094262\n",
       "6                        GLM_1_AutoML_20200422_042503            0.002181229\n",
       "        rmse         mse        mae      rmsle\n",
       "1 0.03508475 0.001230940 0.01782584 0.01559543\n",
       "2 0.03519041 0.001238365 0.01787892 0.01564256\n",
       "3 0.03646871 0.001329967 0.01863217 0.01626663\n",
       "4 0.03807782 0.001449920 0.01872481 0.01674028\n",
       "5 0.04576311 0.002094262 0.02010733 0.02002251\n",
       "6 0.04670363 0.002181229 0.02736321 0.02180600\n",
       "\n",
       "[17 rows x 6 columns] "
      ]
     },
     "metadata": {},
     "output_type": "display_data"
    }
   ],
   "source": [
    "aml@leaderboard"
   ]
  },
  {
   "cell_type": "code",
   "execution_count": 380,
   "metadata": {
    "collapsed": true
   },
   "outputs": [
    {
     "data": {
      "text/plain": [
       "Model Details:\n",
       "==============\n",
       "\n",
       "H2ORegressionModel: stackedensemble\n",
       "Model ID:  StackedEnsemble_BestOfFamily_AutoML_20200422_042503 \n",
       "NULL\n",
       "\n",
       "\n",
       "H2ORegressionMetrics: stackedensemble\n",
       "** Reported on training data. **\n",
       "\n",
       "MSE:  0.0002216386\n",
       "RMSE:  0.01488753\n",
       "MAE:  0.009943589\n",
       "RMSLE:  0.007467685\n",
       "Mean Residual Deviance :  0.0002216386\n",
       "\n",
       "\n",
       "\n",
       "H2ORegressionMetrics: stackedensemble\n",
       "** Reported on cross-validation data. **\n",
       "** 5-fold cross-validation on training data (Metrics computed for combined holdout predictions) **\n",
       "\n",
       "MSE:  0.00123094\n",
       "RMSE:  0.03508475\n",
       "MAE:  0.01782584\n",
       "RMSLE:  0.01559543\n",
       "Mean Residual Deviance :  0.00123094\n",
       "\n"
      ]
     },
     "metadata": {},
     "output_type": "display_data"
    }
   ],
   "source": [
    "aml@leader"
   ]
  },
  {
   "cell_type": "code",
   "execution_count": 381,
   "metadata": {},
   "outputs": [
    {
     "name": "stdout",
     "output_type": "stream",
     "text": [
      "  |======================================================================| 100%\n"
     ]
    }
   ],
   "source": [
    "pred <- h2o.predict(aml, test)"
   ]
  },
  {
   "cell_type": "code",
   "execution_count": 416,
   "metadata": {},
   "outputs": [
    {
     "data": {
      "image/png": "[encoded data removed]",
      "text/plain": [
       "Plot with title \"Accuracy of model: 0.438%\""
      ]
     },
     "metadata": {
      "image/png": {
       "height": 420,
       "width": 420
      },
      "text/plain": {
       "height": 420,
       "width": 420
      }
     },
     "output_type": "display_data"
    }
   ],
   "source": [
    "plot(as.ts(as.data.frame(test$y)),col = 'red3', t = 'l', xlab = 'Trading days after model is built', \n",
    "                                            ylab = 'BIF share price', lwd = 3,\n",
    "    main = paste0('Accuracy of model: ', round(accuracy_abs(train, test, pred), digits = 3), '%'))\n",
    "lines(as.ts(as.data.frame(pred$predict)), col = 'blue3', lwd = 3)\n",
    "legend(legend = c('Actual','Prediction'), fill = c('red3', 'blue3'), 'topright')"
   ]
  },
  {
   "cell_type": "markdown",
   "metadata": {},
   "source": [
    "### 7.2. Модель 1 с переобучением"
   ]
  },
  {
   "cell_type": "code",
   "execution_count": 419,
   "metadata": {},
   "outputs": [
    {
     "name": "stdout",
     "output_type": "stream",
     "text": [
      "  |======================================================================| 100%\n",
      "  |======================================================================| 100%\n",
      "  |                                                                      |   0%\n",
      "  |======================================================================| 100%\n",
      "  |======================================================================| 100%\n",
      "  |======================================================================| 100%\n",
      "  |======================================================================| 100%\n",
      "  |                                                                      |   0%\n",
      "  |======================================================================| 100%\n",
      "  |======================================================================| 100%\n",
      "  |======================================================================| 100%\n",
      "  |======================================================================| 100%\n",
      "  |                                                                      |   0%\n",
      "  |======================================================================| 100%\n",
      "  |======================================================================| 100%\n",
      "  |======================================================================| 100%\n",
      "  |======================================================================| 100%\n",
      "  |                                                                      |   0%\n",
      "  |======================================================================| 100%\n",
      "  |======================================================================| 100%\n",
      "  |======================================================================| 100%\n",
      "  |======================================================================| 100%\n",
      "  |                                                                      |   0%\n",
      "  |======================================================================| 100%\n",
      "  |======================================================================| 100%\n",
      "  |======================================================================| 100%\n",
      "  |======================================================================| 100%\n",
      "  |                                                                      |   0%\n",
      "  |======================================================================| 100%\n",
      "  |======================================================================| 100%\n",
      "  |======================================================================| 100%\n",
      "  |======================================================================| 100%\n",
      "  |                                                                      |   0%\n",
      "  |======================================================================| 100%\n",
      "  |======================================================================| 100%\n",
      "  |======================================================================| 100%\n",
      "  |======================================================================| 100%\n",
      "  |                                                                      |   0%\n",
      "  |======================================================================| 100%\n",
      "  |======================================================================| 100%\n",
      "  |======================================================================| 100%\n",
      "  |======================================================================| 100%\n",
      "  |                                                                      |   0%\n",
      "  |======================================================================| 100%\n",
      "  |======================================================================| 100%\n",
      "  |======================================================================| 100%\n",
      "  |======================================================================| 100%\n",
      "  |                                                                      |   0%\n",
      "  |======================================================================| 100%\n",
      "  |======================================================================| 100%\n",
      "  |======================================================================| 100%\n",
      "  |======================================================================| 100%\n",
      "  |                                                                      |   0%\n",
      "  |======================================================================| 100%\n",
      "  |======================================================================| 100%\n",
      "  |======================================================================| 100%\n",
      "  |======================================================================| 100%\n",
      "  |                                                                      |   0%\n",
      "  |======================================================================| 100%\n",
      "  |======================================================================| 100%\n",
      "  |======================================================================| 100%\n",
      "  |======================================================================| 100%\n",
      "  |                                                                      |   0%\n",
      "  |======================================================================| 100%\n",
      "  |======================================================================| 100%\n",
      "  |======================================================================| 100%\n",
      "  |======================================================================| 100%\n",
      "  |                                                                      |   0%\n",
      "  |======================================================================| 100%\n",
      "  |======================================================================| 100%\n",
      "  |======================================================================| 100%\n",
      "  |======================================================================| 100%\n",
      "  |                                                                      |   0%\n",
      "  |======================================================================| 100%\n",
      "  |======================================================================| 100%\n",
      "  |======================================================================| 100%\n",
      "  |======================================================================| 100%\n",
      "  |                                                                      |   0%\n",
      "  |======================================================================| 100%\n",
      "  |======================================================================| 100%\n",
      "  |======================================================================| 100%\n",
      "  |======================================================================| 100%\n",
      "  |                                                                      |   0%\n",
      "  |======================================================================| 100%\n",
      "  |======================================================================| 100%\n",
      "  |======================================================================| 100%\n",
      "  |======================================================================| 100%\n",
      "  |                                                                      |   0%\n",
      "  |======================================================================| 100%\n",
      "  |======================================================================| 100%\n",
      "  |======================================================================| 100%\n",
      "  |======================================================================| 100%\n",
      "  |                                                                      |   0%\n",
      "  |======================================================================| 100%\n",
      "  |======================================================================| 100%\n",
      "  |======================================================================| 100%\n",
      "  |======================================================================| 100%\n",
      "  |                                                                      |   0%\n",
      "  |======================================================================| 100%\n",
      "  |======================================================================| 100%\n",
      "  |======================================================================| 100%\n",
      "  |======================================================================| 100%\n"
     ]
    },
    {
     "name": "stdout",
     "output_type": "stream",
     "text": [
      "  |                                                                      |   0%\n",
      "  |======================================================================| 100%\n",
      "  |======================================================================| 100%\n",
      "  |======================================================================| 100%\n",
      "  |======================================================================| 100%\n",
      "  |                                                                      |   0%\n",
      "  |======================================================================| 100%\n",
      "  |======================================================================| 100%\n",
      "  |======================================================================| 100%\n",
      "  |======================================================================| 100%\n",
      "  |                                                                      |   0%\n",
      "  |======================================================================| 100%\n",
      "  |======================================================================| 100%\n",
      "  |======================================================================| 100%\n",
      "  |======================================================================| 100%\n",
      "  |                                                                      |   0%\n",
      "  |======================================================================| 100%\n",
      "  |======================================================================| 100%\n",
      "  |======================================================================| 100%\n",
      "  |======================================================================| 100%\n",
      "  |                                                                      |   0%\n",
      "  |======================================================================| 100%\n",
      "  |======================================================================| 100%\n",
      "  |======================================================================| 100%\n",
      "  |======================================================================| 100%\n",
      "  |                                                                      |   0%\n",
      "  |======================================================================| 100%\n",
      "  |======================================================================| 100%\n",
      "  |======================================================================| 100%\n",
      "  |======================================================================| 100%\n",
      "  |                                                                      |   0%\n",
      "  |======================================================================| 100%\n",
      "  |======================================================================| 100%\n",
      "  |======================================================================| 100%\n",
      "  |======================================================================| 100%\n",
      "  |                                                                      |   0%\n",
      "  |======================================================================| 100%\n",
      "  |======================================================================| 100%\n",
      "  |======================================================================| 100%\n",
      "  |======================================================================| 100%\n",
      "  |                                                                      |   0%\n",
      "  |======================================================================| 100%\n",
      "06:27:23.280: GLM_1_AutoML_20200422_062625 [GLM def_1] failed: DistributedException from localhost/127.0.0.1:54321: 'Java heap space', caused by java.lang.OutOfMemoryError: Java heap space\n",
      "\n",
      "ERROR: Unexpected HTTP Status code: 404 Not Found (url = http://localhost:54321/4/Predictions/models/dummy/frames/data.frame_sid_9715_5024)\n",
      "\n",
      "water.exceptions.H2OKeyNotFoundArgumentException\n",
      " [1] \"water.exceptions.H2OKeyNotFoundArgumentException: Object 'dummy' not found in function: predict for argument: model\"\n",
      " [2] \"    water.api.ModelMetricsHandler.predictAsync(ModelMetricsHandler.java:350)\"                                       \n",
      " [3] \"    sun.reflect.GeneratedMethodAccessor208.invoke(Unknown Source)\"                                                  \n",
      " [4] \"    sun.reflect.DelegatingMethodAccessorImpl.invoke(Unknown Source)\"                                                \n",
      " [5] \"    java.lang.reflect.Method.invoke(Unknown Source)\"                                                                \n",
      " [6] \"    water.api.Handler.handle(Handler.java:60)\"                                                                      \n",
      " [7] \"    water.api.RequestServer.serve(RequestServer.java:470)\"                                                          \n",
      " [8] \"    water.api.RequestServer.doGeneric(RequestServer.java:301)\"                                                      \n",
      " [9] \"    water.api.RequestServer.doPost(RequestServer.java:227)\"                                                         \n",
      "[10] \"    javax.servlet.http.HttpServlet.service(HttpServlet.java:755)\"                                                   \n",
      "[11] \"    javax.servlet.http.HttpServlet.service(HttpServlet.java:848)\"                                                   \n",
      "[12] \"    org.eclipse.jetty.servlet.ServletHolder.handle(ServletHolder.java:684)\"                                         \n",
      "[13] \"    org.eclipse.jetty.servlet.ServletHandler.doHandle(ServletHandler.java:501)\"                                     \n",
      "[14] \"    org.eclipse.jetty.server.handler.ContextHandler.doHandle(ContextHandler.java:1086)\"                             \n",
      "[15] \"    org.eclipse.jetty.servlet.ServletHandler.doScope(ServletHandler.java:427)\"                                      \n",
      "[16] \"    org.eclipse.jetty.server.handler.ContextHandler.doScope(ContextHandler.java:1020)\"                              \n",
      "[17] \"    org.eclipse.jetty.server.handler.ScopedHandler.handle(ScopedHandler.java:135)\"                                  \n",
      "[18] \"    org.eclipse.jetty.server.handler.HandlerCollection.handle(HandlerCollection.java:154)\"                          \n",
      "[19] \"    org.eclipse.jetty.server.handler.HandlerWrapper.handle(HandlerWrapper.java:116)\"                                \n",
      "[20] \"    water.webserver.jetty8.Jetty8ServerAdapter$LoginHandler.handle(Jetty8ServerAdapter.java:119)\"                   \n",
      "[21] \"    org.eclipse.jetty.server.handler.HandlerCollection.handle(HandlerCollection.java:154)\"                          \n",
      "[22] \"    org.eclipse.jetty.server.handler.HandlerWrapper.handle(HandlerWrapper.java:116)\"                                \n",
      "[23] \"    org.eclipse.jetty.server.Server.handle(Server.java:370)\"                                                        \n",
      "[24] \"    org.eclipse.jetty.server.AbstractHttpConnection.handleRequest(AbstractHttpConnection.java:494)\"                 \n",
      "[25] \"    org.eclipse.jetty.server.BlockingHttpConnection.handleRequest(BlockingHttpConnection.java:53)\"                  \n",
      "[26] \"    org.eclipse.jetty.server.AbstractHttpConnection.headerComplete(AbstractHttpConnection.java:973)\"                \n",
      "[27] \"    org.eclipse.jetty.server.AbstractHttpConnection$RequestHandler.headerComplete(AbstractHttpConnection.java:1035)\"\n",
      "[28] \"    org.eclipse.jetty.http.HttpParser.parseNext(HttpParser.java:641)\"                                               \n",
      "[29] \"    org.eclipse.jetty.http.HttpParser.parseAvailable(HttpParser.java:231)\"                                          \n",
      "[30] \"    org.eclipse.jetty.server.BlockingHttpConnection.handle(BlockingHttpConnection.java:72)\"                         \n",
      "[31] \"    org.eclipse.jetty.server.bio.SocketConnector$ConnectorEndPoint.run(SocketConnector.java:264)\"                   \n",
      "[32] \"    org.eclipse.jetty.util.thread.QueuedThreadPool.runJob(QueuedThreadPool.java:608)\"                               \n",
      "[33] \"    org.eclipse.jetty.util.thread.QueuedThreadPool$3.run(QueuedThreadPool.java:543)\"                                \n",
      "[34] \"    java.lang.Thread.run(Unknown Source)\"                                                                           \n",
      "\n"
     ]
    },
    {
     "ename": "ERROR",
     "evalue": "Error in .h2o.doSafeREST(h2oRestApiVersion = h2oRestApiVersion, urlSuffix = page, : \n\nERROR MESSAGE:\n\nObject 'dummy' not found in function: predict for argument: model\n\n\n",
     "output_type": "error",
     "traceback": [
      "Error in .h2o.doSafeREST(h2oRestApiVersion = h2oRestApiVersion, urlSuffix = page, : \n\nERROR MESSAGE:\n\nObject 'dummy' not found in function: predict for argument: model\n\n\nTraceback:\n",
      "1. h2o.predict(aml1p, test)",
      "2. h2o.predict.H2OAutoML(aml1p, test)",
      "3. .h2o.__remoteSend(url, method = \"POST\", h2oRestApiVersion = 4)",
      "4. .h2o.doSafeREST(h2oRestApiVersion = h2oRestApiVersion, urlSuffix = page, \n .     parms = .params, method = method)",
      "5. stop(msg)"
     ]
    }
   ],
   "source": [
    "final_pred <- NULL \n",
    "final_pred <- as.data.frame(final_pred)\n",
    "final_pred[1,1] <- as.numeric(as.data.frame(for_autoML$y[i-1]))\n",
    "final_pred[1,2] <- as.numeric(as.data.frame(for_autoML$y[i-1])) \n",
    "for (i in 654:726){\n",
    "    train <- as.h2o(for_autoML[c(1:(i-1)),])\n",
    "    test <- as.h2o(for_autoML[c(i:726),])\n",
    "    oldw <- getOption(\"warn\")\n",
    "    options(warn = -1)\n",
    "    aml1p <- h2o.automl(y = y,\n",
    "                  training_frame = train,\n",
    "                # leaderboard_frame = test,\n",
    "                  max_runtime_secs = 60,\n",
    "                  seed = 1,\n",
    "                  project_name = paste0(\"aml1p\",i))\n",
    "    options(warn = oldw)\n",
    "    pred <- h2o.predict(aml1p, test)\n",
    "    final_pred[(i-652),1] <- as.numeric(as.data.frame(pred$predict[1]))\n",
    "    final_pred[(i-652),2] <- as.numeric(as.data.frame(test$y[1]))\n",
    "}"
   ]
  },
  {
   "cell_type": "code",
   "execution_count": 426,
   "metadata": {},
   "outputs": [
    {
     "data": {
      "image/png": "[encoded data removed]",
      "text/plain": [
       "plot without title"
      ]
     },
     "metadata": {
      "image/png": {
       "height": 420,
       "width": 420
      },
      "text/plain": {
       "height": 420,
       "width": 420
      }
     },
     "output_type": "display_data"
    }
   ],
   "source": [
    "plot(final_pred$V1, t ='l', col = 'red3')\n",
    "lines(final_pred$V2, col = 'blue3')"
   ]
  },
  {
   "cell_type": "code",
   "execution_count": null,
   "metadata": {},
   "outputs": [],
   "source": []
  },
  {
   "cell_type": "code",
   "execution_count": null,
   "metadata": {},
   "outputs": [],
   "source": []
  },
  {
   "cell_type": "code",
   "execution_count": null,
   "metadata": {},
   "outputs": [],
   "source": []
  },
  {
   "cell_type": "code",
   "execution_count": null,
   "metadata": {},
   "outputs": [],
   "source": []
  },
  {
   "cell_type": "code",
   "execution_count": null,
   "metadata": {},
   "outputs": [],
   "source": []
  },
  {
   "cell_type": "code",
   "execution_count": 824,
   "metadata": {},
   "outputs": [
    {
     "data": {
      "text/plain": [
       "                                             model_id mean_residual_deviance\n",
       "1    StackedEnsemble_AllModels_AutoML_20200421_025302            0.001035996\n",
       "2 StackedEnsemble_BestOfFamily_AutoML_20200421_025302            0.001055502\n",
       "3          GBM_grid__1_AutoML_20200421_025302_model_1            0.001080970\n",
       "4                        GBM_3_AutoML_20200421_025302            0.001109094\n",
       "5                        GBM_2_AutoML_20200421_025302            0.001118453\n",
       "6          GBM_grid__1_AutoML_20200421_025302_model_2            0.001172262\n",
       "        rmse         mse        mae      rmsle\n",
       "1 0.03218689 0.001035996 0.01722525 0.01459783\n",
       "2 0.03248849 0.001055502 0.01744447 0.01474886\n",
       "3 0.03287810 0.001080970 0.01789560 0.01498107\n",
       "4 0.03330307 0.001109094 0.01753292 0.01473974\n",
       "5 0.03344328 0.001118453 0.01682354 0.01463893\n",
       "6 0.03423831 0.001172262 0.01607081 0.01500103\n",
       "\n",
       "[16 rows x 6 columns] "
      ]
     },
     "metadata": {},
     "output_type": "display_data"
    }
   ],
   "source": [
    "# Завтра сделать так, где игрик - доходности "
   ]
  },
  {
   "cell_type": "code",
   "execution_count": 904,
   "metadata": {},
   "outputs": [],
   "source": [
    "for_aml.rtn <- for_plot3[complete.cases(for_plot3),]"
   ]
  },
  {
   "cell_type": "code",
   "execution_count": 905,
   "metadata": {},
   "outputs": [],
   "source": [
    "for_aml.rtn <- as.data.frame(for_aml.rtn)"
   ]
  },
  {
   "cell_type": "code",
   "execution_count": 906,
   "metadata": {},
   "outputs": [],
   "source": [
    "for_aml.rtn <- range01(for_aml.rtn)"
   ]
  },
  {
   "cell_type": "code",
   "execution_count": 907,
   "metadata": {},
   "outputs": [],
   "source": [
    "rownames(for_aml.rtn) <- NULL "
   ]
  },
  {
   "cell_type": "code",
   "execution_count": 908,
   "metadata": {},
   "outputs": [],
   "source": [
    "for_aml.rtn <- as.ts(for_aml.rtn)"
   ]
  },
  {
   "cell_type": "code",
   "execution_count": 909,
   "metadata": {},
   "outputs": [],
   "source": [
    "for_aml.rtn <- diff(log(for_aml.rtn), lag = 1)"
   ]
  },
  {
   "cell_type": "code",
   "execution_count": 910,
   "metadata": {},
   "outputs": [],
   "source": [
    "for_aml.rtn <- as.data.frame(for_aml.rtn)"
   ]
  },
  {
   "cell_type": "code",
   "execution_count": 911,
   "metadata": {},
   "outputs": [],
   "source": [
    "for_aml.rtn$Score[which(!is.finite(for_aml.rtn$Score))] <- 0"
   ]
  },
  {
   "cell_type": "code",
   "execution_count": 912,
   "metadata": {},
   "outputs": [],
   "source": [
    "library(tseries)"
   ]
  },
  {
   "cell_type": "code",
   "execution_count": 913,
   "metadata": {},
   "outputs": [
    {
     "name": "stdout",
     "output_type": "stream",
     "text": [
      "[1] 0.01\n",
      "[1] 0.01\n",
      "[1] 0.01\n",
      "[1] 0.01\n",
      "[1] 0.01\n",
      "[1] 0.01\n",
      "[1] 0.01\n",
      "[1] 0.01\n",
      "[1] 0.01\n",
      "[1] 0.01\n"
     ]
    }
   ],
   "source": [
    "for (c in 1:10){\n",
    "    adf <- adf.test(x = for_aml.rtn[,c])\n",
    "    print(adf$p.value)\n",
    "}"
   ]
  },
  {
   "cell_type": "code",
   "execution_count": 914,
   "metadata": {},
   "outputs": [],
   "source": [
    "for (i in 3:(nrow(x = for_aml.rtn))) {\n",
    "    x = 10\n",
    "    f_list <- for_aml.rtn[c(1:i),c(1:x)]\n",
    "    myfeatures <- tsfeatures(f_list)\n",
    "    myfeatures  <- as.data.frame(myfeatures)\n",
    "    for (k in 1:nrow(myfeatures)){\n",
    "        a <- myfeatures[k,]\n",
    "        colnames(a) <- paste0(colnames(a), '.', colnames(for_aml.rtn)[k])\n",
    "        col1 <- x+1+(k-1)*(ncol(a))\n",
    "        col2 <-  x+1+k*(ncol(a)) - 1\n",
    "        for_aml.rtn[i, c(col1:col2)] <- a\n",
    "    }\n",
    "}"
   ]
  },
  {
   "cell_type": "code",
   "execution_count": 915,
   "metadata": {},
   "outputs": [
    {
     "data": {
      "text/html": [
       "160"
      ],
      "text/latex": [
       "160"
      ],
      "text/markdown": [
       "160"
      ],
      "text/plain": [
       "[1] 160"
      ]
     },
     "metadata": {},
     "output_type": "display_data"
    }
   ],
   "source": [
    "for_aml.rtn <- for_aml.rtn[,colSums(is.na(for_aml.rtn))<nrow(for_aml.rtn)]\n",
    "ncol(for_aml.rtn)"
   ]
  },
  {
   "cell_type": "code",
   "execution_count": 916,
   "metadata": {},
   "outputs": [],
   "source": [
    "for (i in 1:10){\n",
    "    for (j in 1:160){\n",
    "        for_aml.rtn[,(160*i+j)] <- dplyr::lag(for_aml.rtn[,j], n = i)\n",
    "        colnames(for_aml.rtn)[(160*i+j)] <- as.character(paste0(as.character(colnames(for_aml.rtn)[(j)]), '.l', i))\n",
    "    }\n",
    "}"
   ]
  },
  {
   "cell_type": "code",
   "execution_count": 917,
   "metadata": {},
   "outputs": [],
   "source": [
    "for_aml.rtn$y <- dplyr::lead(for_aml.rtn$BIF.CO.Close, n = 1)"
   ]
  },
  {
   "cell_type": "code",
   "execution_count": 922,
   "metadata": {},
   "outputs": [],
   "source": [
    "y <- 'y'"
   ]
  },
  {
   "cell_type": "code",
   "execution_count": 918,
   "metadata": {},
   "outputs": [],
   "source": [
    "for_aml.rtn <- for_aml.rtn[-c(1:20, nrow(for_aml.rtn)),]"
   ]
  },
  {
   "cell_type": "code",
   "execution_count": 919,
   "metadata": {},
   "outputs": [
    {
     "data": {
      "text/html": [
       "0"
      ],
      "text/latex": [
       "0"
      ],
      "text/markdown": [
       "0"
      ],
      "text/plain": [
       "[1] 0"
      ]
     },
     "metadata": {},
     "output_type": "display_data"
    }
   ],
   "source": [
    "sum(is.na(for_aml.rtn)) "
   ]
  },
  {
   "cell_type": "code",
   "execution_count": 923,
   "metadata": {},
   "outputs": [
    {
     "data": {
      "text/html": [
       "<style>\n",
       ".list-inline {list-style: none; margin:0; padding: 0}\n",
       ".list-inline>li {display: inline-block}\n",
       ".list-inline>li:not(:last-child)::after {content: \"\\00b7\"; padding: 0 .5ex}\n",
       "</style>\n",
       "<ol class=list-inline><li>725</li><li>1761</li></ol>\n"
      ],
      "text/latex": [
       "\\begin{enumerate*}\n",
       "\\item 725\n",
       "\\item 1761\n",
       "\\end{enumerate*}\n"
      ],
      "text/markdown": [
       "1. 725\n",
       "2. 1761\n",
       "\n",
       "\n"
      ],
      "text/plain": [
       "[1]  725 1761"
      ]
     },
     "metadata": {},
     "output_type": "display_data"
    }
   ],
   "source": [
    "dim(for_aml.rtn)"
   ]
  },
  {
   "cell_type": "code",
   "execution_count": 931,
   "metadata": {
    "scrolled": true
   },
   "outputs": [
    {
     "name": "stdout",
     "output_type": "stream",
     "text": [
      "  |======================================================================| 100%\n",
      "  |======================================================================| 100%\n",
      "\n",
      "ERROR: Unexpected HTTP Status code: 412 Precondition Failed (url = http://localhost:54321/99/AutoMLBuilder)\n",
      "\n",
      "water.exceptions.H2OIllegalArgumentException\n",
      " [1] \"water.exceptions.H2OIllegalArgumentException: Cannot use leaderboard new_n_t.rtn@@y with a new leaderboard frame (existing leaderboard frame: null).\"\n",
      " [2] \"    ai.h2o.automl.leaderboard.Leaderboard.getOrMake(Leaderboard.java:72)\"                                                                            \n",
      " [3] \"    ai.h2o.automl.AutoML.initLeaderboard(AutoML.java:343)\"                                                                                           \n",
      " [4] \"    ai.h2o.automl.AutoML.<init>(AutoML.java:209)\"                                                                                                    \n",
      " [5] \"    ai.h2o.automl.AutoML.startAutoML(AutoML.java:110)\"                                                                                               \n",
      " [6] \"    water.automl.api.AutoMLBuilderHandler.build(AutoMLBuilderHandler.java:15)\"                                                                       \n",
      " [7] \"    sun.reflect.GeneratedMethodAccessor398.invoke(Unknown Source)\"                                                                                   \n",
      " [8] \"    sun.reflect.DelegatingMethodAccessorImpl.invoke(Unknown Source)\"                                                                                 \n",
      " [9] \"    java.lang.reflect.Method.invoke(Unknown Source)\"                                                                                                 \n",
      "[10] \"    water.api.Handler.handle(Handler.java:60)\"                                                                                                       \n",
      "[11] \"    water.api.RequestServer.serve(RequestServer.java:470)\"                                                                                           \n",
      "[12] \"    water.api.RequestServer.doGeneric(RequestServer.java:301)\"                                                                                       \n",
      "[13] \"    water.api.RequestServer.doPost(RequestServer.java:227)\"                                                                                          \n",
      "[14] \"    javax.servlet.http.HttpServlet.service(HttpServlet.java:755)\"                                                                                    \n",
      "[15] \"    javax.servlet.http.HttpServlet.service(HttpServlet.java:848)\"                                                                                    \n",
      "[16] \"    org.eclipse.jetty.servlet.ServletHolder.handle(ServletHolder.java:684)\"                                                                          \n",
      "[17] \"    org.eclipse.jetty.servlet.ServletHandler.doHandle(ServletHandler.java:501)\"                                                                      \n",
      "[18] \"    org.eclipse.jetty.server.handler.ContextHandler.doHandle(ContextHandler.java:1086)\"                                                              \n",
      "[19] \"    org.eclipse.jetty.servlet.ServletHandler.doScope(ServletHandler.java:427)\"                                                                       \n",
      "[20] \"    org.eclipse.jetty.server.handler.ContextHandler.doScope(ContextHandler.java:1020)\"                                                               \n",
      "[21] \"    org.eclipse.jetty.server.handler.ScopedHandler.handle(ScopedHandler.java:135)\"                                                                   \n",
      "[22] \"    org.eclipse.jetty.server.handler.HandlerCollection.handle(HandlerCollection.java:154)\"                                                           \n",
      "[23] \"    org.eclipse.jetty.server.handler.HandlerWrapper.handle(HandlerWrapper.java:116)\"                                                                 \n",
      "[24] \"    water.webserver.jetty8.Jetty8ServerAdapter$LoginHandler.handle(Jetty8ServerAdapter.java:119)\"                                                    \n",
      "[25] \"    org.eclipse.jetty.server.handler.HandlerCollection.handle(HandlerCollection.java:154)\"                                                           \n",
      "[26] \"    org.eclipse.jetty.server.handler.HandlerWrapper.handle(HandlerWrapper.java:116)\"                                                                 \n",
      "[27] \"    org.eclipse.jetty.server.Server.handle(Server.java:370)\"                                                                                         \n",
      "[28] \"    org.eclipse.jetty.server.AbstractHttpConnection.handleRequest(AbstractHttpConnection.java:494)\"                                                  \n",
      "[29] \"    org.eclipse.jetty.server.BlockingHttpConnection.handleRequest(BlockingHttpConnection.java:53)\"                                                   \n",
      "[30] \"    org.eclipse.jetty.server.AbstractHttpConnection.content(AbstractHttpConnection.java:984)\"                                                        \n",
      "[31] \"    org.eclipse.jetty.server.AbstractHttpConnection$RequestHandler.content(AbstractHttpConnection.java:1045)\"                                        \n",
      "[32] \"    org.eclipse.jetty.http.HttpParser.parseNext(HttpParser.java:861)\"                                                                                \n",
      "[33] \"    org.eclipse.jetty.http.HttpParser.parseAvailable(HttpParser.java:236)\"                                                                           \n",
      "[34] \"    org.eclipse.jetty.server.BlockingHttpConnection.handle(BlockingHttpConnection.java:72)\"                                                          \n",
      "[35] \"    org.eclipse.jetty.server.bio.SocketConnector$ConnectorEndPoint.run(SocketConnector.java:264)\"                                                    \n",
      "[36] \"    org.eclipse.jetty.util.thread.QueuedThreadPool.runJob(QueuedThreadPool.java:608)\"                                                                \n",
      "[37] \"    org.eclipse.jetty.util.thread.QueuedThreadPool$3.run(QueuedThreadPool.java:543)\"                                                                 \n",
      "[38] \"    java.lang.Thread.run(Unknown Source)\"                                                                                                            \n",
      "\n"
     ]
    },
    {
     "ename": "ERROR",
     "evalue": "Error in .h2o.doSafeREST(h2oRestApiVersion = h2oRestApiVersion, urlSuffix = page, : \n\nERROR MESSAGE:\n\nCannot use leaderboard new_n_t.rtn@@y with a new leaderboard frame (existing leaderboard frame: null).\n\n\n",
     "output_type": "error",
     "traceback": [
      "Error in .h2o.doSafeREST(h2oRestApiVersion = h2oRestApiVersion, urlSuffix = page, : \n\nERROR MESSAGE:\n\nCannot use leaderboard new_n_t.rtn@@y with a new leaderboard frame (existing leaderboard frame: null).\n\n\nTraceback:\n",
      "1. h2o.automl(y = y, training_frame = train, max_runtime_secs = 120, \n .     leaderboard_frame = test, seed = 1, project_name = \"new_n_t.rtn\")",
      "2. .h2o.__remoteSend(h2oRestApiVersion = 99, method = \"POST\", page = \"AutoMLBuilder\", \n .     autoML = TRUE, .params = params)",
      "3. .h2o.doSafeREST(h2oRestApiVersion = h2oRestApiVersion, urlSuffix = page, \n .     parms = .params, method = method, autoML = autoML)",
      "4. stop(msg)"
     ]
    }
   ],
   "source": [
    "train <- as.h2o(for_aml.rtn[c(1:600),])\n",
    "test <- as.h2o(for_aml.rtn[c(601:725),])\n",
    "oldw <- getOption(\"warn\")\n",
    "options(warn = -1)\n",
    "aml_rtn <- h2o.automl(y = y,\n",
    "                  training_frame = train,\n",
    "                  max_runtime_secs = 120,\n",
    "                  leaderboard_frame = test,\n",
    "                  seed = 1,\n",
    "                  project_name = \"new_n_t.rtn\")\n",
    "options(warn = oldw)"
   ]
  },
  {
   "cell_type": "code",
   "execution_count": 925,
   "metadata": {},
   "outputs": [
    {
     "name": "stdout",
     "output_type": "stream",
     "text": [
      "  |======================================================================| 100%\n"
     ]
    }
   ],
   "source": [
    "pred.rtn <- h2o.predict(aml_rtn, test)"
   ]
  },
  {
   "cell_type": "code",
   "execution_count": 928,
   "metadata": {},
   "outputs": [
    {
     "data": {
      "image/png": "[encoded data removed]",
      "text/plain": [
       "plot without title"
      ]
     },
     "metadata": {
      "image/png": {
       "height": 420,
       "width": 420
      },
      "text/plain": {
       "height": 420,
       "width": 420
      }
     },
     "output_type": "display_data"
    }
   ],
   "source": [
    "plot(as.ts(as.data.frame(test$y)),col = 'red3', t = 'l', xlab = 'Trading days after model is built', \n",
    "                                            ylab = 'BIF share price log-differences', lwd = 3)\n",
    "lines(as.ts(as.data.frame(pred.rtn$predict)), col = 'blue3', lwd = 3)\n",
    "legend(legend = c('Actual','Prediction'), fill = c('red3', 'blue3'), 'topright')"
   ]
  },
  {
   "cell_type": "code",
   "execution_count": 930,
   "metadata": {},
   "outputs": [
    {
     "data": {
      "text/plain": [
       "                                             model_id mean_residual_deviance\n",
       "1    StackedEnsemble_AllModels_AutoML_20200420_014417            0.001072587\n",
       "2 StackedEnsemble_BestOfFamily_AutoML_20200420_014417            0.001282441\n",
       "3                        GLM_1_AutoML_20200420_014417            0.001696753\n",
       "4 DeepLearning_grid__1_AutoML_20200420_014417_model_2            0.003295714\n",
       "5          GBM_grid__1_AutoML_20200420_014417_model_3            0.004100128\n",
       "6          GBM_grid__1_AutoML_20200420_014417_model_4            0.004257438\n",
       "        rmse         mse        mae      rmsle\n",
       "1 0.03275038 0.001072587 0.02513993 0.01951107\n",
       "2 0.03581118 0.001282441 0.02688427 0.02115526\n",
       "3 0.04119166 0.001696753 0.03570174 0.02516261\n",
       "4 0.05740831 0.003295714 0.04022496 0.03424728\n",
       "5 0.06403224 0.004100128 0.05190670 0.03984753\n",
       "6 0.06524904 0.004257438 0.05332356 0.04072716\n",
       "\n",
       "[23 rows x 6 columns] "
      ]
     },
     "metadata": {},
     "output_type": "display_data"
    }
   ],
   "source": [
    "aml@leaderboard"
   ]
  },
  {
   "cell_type": "code",
   "execution_count": 932,
   "metadata": {},
   "outputs": [
    {
     "data": {
      "text/html": [
       "160"
      ],
      "text/latex": [
       "160"
      ],
      "text/markdown": [
       "160"
      ],
      "text/plain": [
       "[1] 160"
      ]
     },
     "metadata": {},
     "output_type": "display_data"
    },
    {
     "data": {
      "text/html": [
       "0"
      ],
      "text/latex": [
       "0"
      ],
      "text/markdown": [
       "0"
      ],
      "text/plain": [
       "[1] 0"
      ]
     },
     "metadata": {},
     "output_type": "display_data"
    }
   ],
   "source": [
    "for_aml.dif <- for_plot3[complete.cases(for_plot3),]\n",
    "for_aml.dif <- as.data.frame(for_aml.dif)\n",
    "rownames(for_aml.dif) <- NULL \n",
    "for_aml.dif <- as.ts(for_aml.dif)\n",
    "for_aml.dif <- diff(for_aml.dif, lag = 1)\n",
    "for_aml.dif <- as.data.frame(for_aml.dif)\n",
    "for_aml.dif$Score[which(!is.finite(for_aml.dif$Score))] <- 0\n",
    "for (i in 3:(nrow(x = for_aml.dif))) {\n",
    "    x = 10\n",
    "    f_list <- for_aml.dif[c(1:i),c(1:x)]\n",
    "    myfeatures <- tsfeatures(f_list)\n",
    "    myfeatures  <- as.data.frame(myfeatures)\n",
    "    for (k in 1:nrow(myfeatures)){\n",
    "        a <- myfeatures[k,]\n",
    "        colnames(a) <- paste0(colnames(a), '.', colnames(for_aml.dif)[k])\n",
    "        col1 <- x+1+(k-1)*(ncol(a))\n",
    "        col2 <-  x+1+k*(ncol(a)) - 1\n",
    "        for_aml.dif[i, c(col1:col2)] <- a\n",
    "    }\n",
    "}\n",
    "for_aml.dif <- for_aml.dif[,colSums(is.na(for_aml.dif))<nrow(for_aml.dif)]\n",
    "ncol(for_aml.dif)\n",
    "for (i in 1:10){\n",
    "    for (j in 1:160){\n",
    "        for_aml.dif[,(160*i+j)] <- dplyr::lag(for_aml.dif[,j], n = i)\n",
    "        colnames(for_aml.dif)[(160*i+j)] <- as.character(paste0(as.character(colnames(for_aml.dif)[(j)]), '.l', i))\n",
    "    }\n",
    "}\n",
    "for_aml.dif$y <- dplyr::lead(for_aml.dif$BIF.CO.Close, n = 1)\n",
    "y <- 'y'\n",
    "for_aml.dif <- for_aml.dif[-c(1:20, nrow(for_aml.dif)),]\n",
    "sum(is.na(for_aml.dif)) "
   ]
  },
  {
   "cell_type": "code",
   "execution_count": null,
   "metadata": {},
   "outputs": [],
   "source": [
    "train <- as.h2o(for_aml.dif[c(1:600),])\n",
    "test <- as.h2o(for_aml.dif[c(601:725),])\n",
    "oldw <- getOption(\"warn\")\n",
    "options(warn = -1)\n",
    "aml_dif <- h2o.automl(y = y,\n",
    "                  training_frame = train,\n",
    "                  max_runtime_secs = 120,\n",
    "                  leaderboard_frame = test,\n",
    "                  seed = 1,\n",
    "                  project_name = \"new_n_t.dif\")\n",
    "options(warn = oldw)"
   ]
  },
  {
   "cell_type": "code",
   "execution_count": 805,
   "metadata": {
    "scrolled": true
   },
   "outputs": [
    {
     "name": "stdout",
     "output_type": "stream",
     "text": [
      "  |======================================================================| 100%\n",
      "  |======================================================================| 100%\n",
      "  |                                                                      |   0%\n",
      "01:31:43.286: AutoML: XGBoost is not available; skipping it.\n",
      "01:36:04.425: New models will be added to existing leaderboard final_n_t_719@@y (leaderboard frame=null) with already 15 models.\n",
      "01:36:04.426: AutoML: XGBoost is not available; skipping it.\n",
      "01:38:07.207: StackedEnsemble_BestOfFamily_AutoML_20200421_013604 [StackedEnsemble best (built using top model from each algorithm type)] failed: water.exceptions.H2OIllegalArgumentException: Failed to find the xval predictions frame. . .  Looks like keep_cross_validation_predictions wasn't set when building the models, or the frame was deleted.\n",
      "01:38:08.223: StackedEnsemble_AllModels_AutoML_20200421_013604 [StackedEnsemble all (built using all AutoML models)] failed: water.exceptions.H2OIllegalArgumentException: Failed to find the xval predictions frame. . .  Looks like keep_cross_validation_predictions wasn't set when building the models, or the frame was deleted.\n",
      "01:42:51.476: New models will be added to existing leaderboard final_n_t_719@@y (leaderboard frame=null) with already 28 models.\n",
      "  |======================================================================| 100%\n",
      "  |======================================================================| 100%\n",
      "  |======================================================================| 100%\n",
      "  |======================================================================| 100%\n",
      "  |                                                                      |   0%\n",
      "  |======================================================================| 100%\n",
      "  |======================================================================| 100%\n",
      "  |======================================================================| 100%\n",
      "  |======================================================================| 100%\n",
      "  |                                                                      |   0%\n",
      "  |======================================================================| 100%\n",
      "  |======================================================================| 100%\n",
      "  |======================================================================| 100%\n",
      "  |======================================================================| 100%\n",
      "  |                                                                      |   0%\n",
      "  |======================================================================| 100%\n",
      "  |======================================================================| 100%\n",
      "  |======================================================================| 100%\n",
      "  |======================================================================| 100%\n",
      "  |                                                                      |   0%\n",
      "  |======================================================================| 100%\n",
      "  |======================================================================| 100%\n",
      "  |======================================================================| 100%\n",
      "  |======================================================================| 100%\n",
      "  |                                                                      |   0%\n",
      "  |======================================================================| 100%\n",
      "  |======================================================================| 100%\n",
      "  |======================================================================| 100%\n",
      "  |======================================================================| 100%\n",
      "  |                                                                      |   0%\n",
      "  |======================================================================| 100%\n",
      "  |======================================================================| 100%\n",
      "  |======================================================================| 100%\n",
      "  |======================================================================| 100%\n",
      "  |                                                                      |   0%\n",
      "  |======================================================================| 100%\n",
      "  |======================================================================| 100%\n",
      "  |======================================================================| 100%\n",
      "  |======================================================================| 100%\n",
      "  |                                                                      |   0%\n",
      "  |======================================================================| 100%\n",
      "  |======================================================================| 100%\n",
      "  |======================================================================| 100%\n",
      "  |======================================================================| 100%\n",
      "  |                                                                      |   0%\n",
      "  |======================================================================| 100%\n",
      "  |======================================================================| 100%\n",
      "  |======================================================================| 100%\n",
      "  |======================================================================| 100%\n",
      "  |                                                                      |   0%\n",
      "  |======================================================================| 100%\n",
      "  |======================================================================| 100%\n"
     ]
    }
   ],
   "source": [
    "final_pred <- NULL \n",
    "final_pred <- as.data.frame(final_pred)\n",
    "n <- nrow(for_aml2)\n",
    "dp <- 10 #количество дней, на которые будет строиться прогноз - 1\n",
    "for (p in (n-dp):n) { \n",
    "    \n",
    "    train <- as.h2o(for_aml2[c(1:(p-1)),]) # тренировочную выборку постоянно увеличиваем\n",
    "    test <- as.h2o(for_aml2[c(p:n),]) # тестовую выборку постоянно уменьшаем\n",
    "    oldw <- getOption(\"warn\") # отключаем предупреждения об ошибке\n",
    "    options(warn = -1)\n",
    "    aml8 <- h2o.automl(y = y,\n",
    "                  training_frame = train,\n",
    "                # leaderboard_frame = test, # не заглядываем в будущее\n",
    "                  max_runtime_secs = 120, # пока поставлю так, может потом поставлю побольше\n",
    "                  seed = 1,\n",
    "                  project_name = paste0('final_n_t_', p)) # чтобы не были одинаковые названия,  число - первый день теста\n",
    "    pred9 <- h2o.predict(aml8, test) # делаю прогноз\n",
    "    final_pred[(p-n+dp+1),1] <- as.numeric(pred9[1,1]) # из прогноза достаю только 1 значение\n",
    "    final_pred[(p-n+dp+1),2] <- as.numeric(for_aml2$y[p]) # рядом с ним ставлю реальное значение на этот день \n",
    "}\n"
   ]
  },
  {
   "cell_type": "code",
   "execution_count": 807,
   "metadata": {},
   "outputs": [],
   "source": [
    "real_pred <- NULL\n",
    "real_pred <- as.data.frame(real_pred)\n",
    "real_pred[c(1:20),1] <- for_aml2$y[c((n-dp-20):(n-dp-1))]\n",
    "real_pred[c(1:20),2] <- for_aml2$y[c((n-dp-20):(n-dp-1))]\n",
    "real_pred[c(21:(21+dp)),1] <- final_pred[,1]\n",
    "real_pred[c(21:(21+dp)),2] <- final_pred[,2]"
   ]
  }
 ],
 "metadata": {
  "kernelspec": {
   "display_name": "R",
   "language": "R",
   "name": "ir"
  },
  "language_info": {
   "codemirror_mode": "r",
   "file_extension": ".r",
   "mimetype": "text/x-r-source",
   "name": "R",
   "pygments_lexer": "r",
   "version": "3.6.1"
  }
 },
 "nbformat": 4,
 "nbformat_minor": 4
}
